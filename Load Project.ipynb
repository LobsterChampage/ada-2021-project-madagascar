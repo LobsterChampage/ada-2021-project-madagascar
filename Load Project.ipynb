{
 "cells": [
  {
   "cell_type": "markdown",
   "id": "fed6ad23",
   "metadata": {},
   "source": [
    "# Follow this to extract the relevant data"
   ]
  },
  {
   "cell_type": "markdown",
   "id": "c4b5b0c2",
   "metadata": {},
   "source": [
    "**1. Put compressed quotebank files in /Data and name them like this: quotes-YEAR.json.bz2**\n",
    "\n",
    "---\n",
    "\n",
    "**2. Chunk the quotebank files into smaller .csv.bz2 files for each year.**\n",
    "\n",
    "This can be parallellarized for different years or run in a loop for all the years.\n",
    "\n",
    "*Single year chunking:*"
   ]
  },
  {
   "cell_type": "code",
   "execution_count": null,
   "id": "76003913",
   "metadata": {},
   "outputs": [],
   "source": [
    "from functions import chunkify\n",
    "year = 2020\n",
    "chunk_size = 200000\n",
    "chunkify('Data/quotes-' + str(year) + '.json.bz2', chunk_size,'quotes-' + str(year) + '-')"
   ]
  },
  {
   "cell_type": "markdown",
   "id": "042eaf72",
   "metadata": {},
   "source": [
    "*Loop:*"
   ]
  },
  {
   "cell_type": "code",
   "execution_count": null,
   "id": "05a2ad74",
   "metadata": {},
   "outputs": [],
   "source": [
    "from functions import chunkify\n",
    "chunk_size = 200000\n",
    "for year in range(2015,2021)\n",
    "    chunkify('Data/quotes-' + str(year) + '.json.bz2', chunk_size,'quotes-' + str(year) + '-')"
   ]
  },
  {
   "cell_type": "markdown",
   "id": "b7b3ccc1",
   "metadata": {},
   "source": [
    "This will output a bunch of chunk-files for the given year in the same /Data folder.\n",
    "\n",
    "`quotes-YEAR-X.csv.bz2`\n",
    "\n",
    "`quotes-2015-27.csv.bz2`\n",
    "\n",
    "---"
   ]
  },
  {
   "cell_type": "markdown",
   "id": "757bd33f",
   "metadata": {},
   "source": [
    "**3. Extract Elon Musk's quotes from all the .csv.bz2 files**\n",
    "\n",
    "This can also be parallellarized for different years.\n",
    "\n",
    "*Single year extracting:*"
   ]
  },
  {
   "cell_type": "code",
   "execution_count": null,
   "id": "1100f902",
   "metadata": {},
   "outputs": [],
   "source": [
    "from functions import get_quotes\n",
    "from functions import make_csv\n",
    "\n",
    "year = 2020\n",
    "speaker = 'Elon Musk'\n",
    "\n",
    "df = get_quotes(speaker, year)\n",
    "make_csv(df, speaker, year, compression='bz2')"
   ]
  },
  {
   "cell_type": "markdown",
   "id": "910f656e",
   "metadata": {},
   "source": [
    "*Loop:*"
   ]
  },
  {
   "cell_type": "code",
   "execution_count": null,
   "id": "04c704b1",
   "metadata": {},
   "outputs": [],
   "source": [
    "from functions import get_quotes\n",
    "from functions import make_csv\n",
    "\n",
    "speaker = 'Elon Musk'\n",
    "for year in range(2015, 2021):\n",
    "    df = get_quotes(speaker, year)\n",
    "    make_csv(df, speaker, year, compression='bz2')"
   ]
  },
  {
   "cell_type": "markdown",
   "id": "9ee97d8b",
   "metadata": {},
   "source": [
    "This will output a single zipped csv file per year with only quotes from the speaker.\n",
    "\n",
    "`SPEAKER-quotes-YEAR.csv.bz2`\n",
    "\n",
    "`Elon Musk-quotes-2018.csv.bz2`\n",
    "\n",
    "---"
   ]
  },
  {
   "cell_type": "markdown",
   "id": "288f4613",
   "metadata": {},
   "source": [
    "**4. Combining the zipped csv files per year into one file with all of elon's quotes from 2015-2020**"
   ]
  },
  {
   "cell_type": "code",
   "execution_count": null,
   "id": "8343b6e4",
   "metadata": {},
   "outputs": [],
   "source": [
    "from functions import combining_yearly_quotes\n",
    "\n",
    "combining_yearly_quotes(speaker)"
   ]
  },
  {
   "cell_type": "markdown",
   "id": "a16c20c7",
   "metadata": {},
   "source": [
    "This will output a single zipped csv with all quotes from the speaker from the years you have in /Data folder.\n",
    "\n",
    "`all-SPEAKER-quotes.csv.bz2`\n",
    "\n",
    "`all-Elon Musk-quotes.csv.bz2`\n",
    "\n",
    "---"
   ]
  },
  {
   "cell_type": "markdown",
   "id": "f6b4d2d4",
   "metadata": {},
   "source": [
    "**5. Cut off low propability quotes**"
   ]
  },
  {
   "cell_type": "code",
   "execution_count": null,
   "id": "7bfc7eac",
   "metadata": {},
   "outputs": [],
   "source": []
  },
  {
   "cell_type": "markdown",
   "id": "3f9fef35",
   "metadata": {},
   "source": [
    "**6. Add organizational data**"
   ]
  },
  {
   "cell_type": "code",
   "execution_count": null,
   "id": "28b64383",
   "metadata": {},
   "outputs": [],
   "source": []
  }
 ],
 "metadata": {
  "kernelspec": {
   "display_name": "Python 3 (ipykernel)",
   "language": "python",
   "name": "python3"
  },
  "language_info": {
   "codemirror_mode": {
    "name": "ipython",
    "version": 3
   },
   "file_extension": ".py",
   "mimetype": "text/x-python",
   "name": "python",
   "nbconvert_exporter": "python",
   "pygments_lexer": "ipython3",
   "version": "3.9.1"
  }
 },
 "nbformat": 4,
 "nbformat_minor": 5
}
