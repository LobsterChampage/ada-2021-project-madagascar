{
 "cells": [
  {
   "cell_type": "markdown",
   "id": "98833cf3",
   "metadata": {},
   "source": [
    "# Observational study "
   ]
  },
  {
   "cell_type": "code",
   "execution_count": 2,
   "id": "61358806",
   "metadata": {},
   "outputs": [],
   "source": [
    "import pandas as pd \n",
    "import numpy as np \n",
    "import matplotlib.pyplot as plt\n",
    "from networkx import nx\n",
    "from plotnine import ggplot, aes, geom_bar\n",
    "from functions import *\n",
    "import spacy\n",
    "import time\n",
    "import datetime\n",
    "import statsmodels.formula.api as smf"
   ]
  },
  {
   "cell_type": "code",
   "execution_count": 3,
   "id": "14454f15",
   "metadata": {},
   "outputs": [],
   "source": [
    "from popularity import trending_history\n",
    "from financials import *"
   ]
  },
  {
   "cell_type": "code",
   "execution_count": 4,
   "id": "2b3da3cc",
   "metadata": {},
   "outputs": [],
   "source": [
    "elon_org_df = pd.read_csv('Data/org-lg-Elon Musk.csv.bz2') 94 64 62 20"
   ]
  },
  {
   "cell_type": "code",
   "execution_count": 47,
   "id": "e716b6e1",
   "metadata": {},
   "outputs": [
    {
     "name": "stdout",
     "output_type": "stream",
     "text": [
      "7      2015-10-09 11:30:14\n",
      "18     2015-10-09 16:50:01\n",
      "24     2015-05-06 23:48:00\n",
      "29     2015-12-26 06:45:28\n",
      "37     2015-12-14 22:52:19\n",
      "41     2015-10-10 06:28:35\n",
      "45     2015-10-09 15:15:00\n",
      "63     2015-10-09 06:30:37\n",
      "92     2015-10-09 15:03:42\n",
      "105    2015-05-09 23:58:42\n",
      "Name: date, dtype: object\n"
     ]
    },
    {
     "data": {
      "text/plain": [
       "(44,)"
      ]
     },
     "execution_count": 47,
     "metadata": {},
     "output_type": "execute_result"
    }
   ],
   "source": [
    "e = elon_org_df[elon_org_df['ORG']== 'Apple']\n",
    "f = e['date']\n",
    "print (f.head (10))\n",
    "for i in range (len(f)):\n",
    "    f.iloc[i] = f.iloc[i][0:10]\n",
    "f.unique().shape    "
   ]
  },
  {
   "cell_type": "code",
   "execution_count": 43,
   "id": "05e602da",
   "metadata": {},
   "outputs": [
    {
     "data": {
      "text/plain": [
       "7       2015-10-09\n",
       "18      2015-10-09\n",
       "24      2015-05-06\n",
       "29      2015-12-26\n",
       "37      2015-12-14\n",
       "           ...    \n",
       "3958    2018-11-03\n",
       "4242    2018-11-02\n",
       "5082    2019-07-23\n",
       "5125    2019-01-08\n",
       "5771    2020-03-12\n",
       "Name: date, Length: 94, dtype: object"
      ]
     },
     "execution_count": 43,
     "metadata": {},
     "output_type": "execute_result"
    }
   ],
   "source": [
    "f"
   ]
  },
  {
   "cell_type": "markdown",
   "id": "b6b19fb1",
   "metadata": {},
   "source": [
    "## Matching : "
   ]
  },
  {
   "cell_type": "code",
   "execution_count": 24,
   "id": "0b3f6437",
   "metadata": {},
   "outputs": [
    {
     "data": {
      "text/html": [
       "<div>\n",
       "<style scoped>\n",
       "    .dataframe tbody tr th:only-of-type {\n",
       "        vertical-align: middle;\n",
       "    }\n",
       "\n",
       "    .dataframe tbody tr th {\n",
       "        vertical-align: top;\n",
       "    }\n",
       "\n",
       "    .dataframe thead th {\n",
       "        text-align: right;\n",
       "    }\n",
       "</style>\n",
       "<table border=\"1\" class=\"dataframe\">\n",
       "  <thead>\n",
       "    <tr style=\"text-align: right;\">\n",
       "      <th></th>\n",
       "      <th>Name</th>\n",
       "      <th>Date</th>\n",
       "      <th>Close</th>\n",
       "      <th>Volume</th>\n",
       "      <th>MarketCap</th>\n",
       "      <th>Popularity</th>\n",
       "      <th>Elon</th>\n",
       "      <th>compare</th>\n",
       "    </tr>\n",
       "  </thead>\n",
       "  <tbody>\n",
       "    <tr>\n",
       "      <th>4</th>\n",
       "      <td>Apple</td>\n",
       "      <td>2015-10-09</td>\n",
       "      <td>25.580677</td>\n",
       "      <td>121868800.0</td>\n",
       "      <td>4.196868e+11</td>\n",
       "      <td>56</td>\n",
       "      <td>1</td>\n",
       "      <td>None</td>\n",
       "    </tr>\n",
       "    <tr>\n",
       "      <th>9</th>\n",
       "      <td>Apple</td>\n",
       "      <td>2015-10-09</td>\n",
       "      <td>25.580677</td>\n",
       "      <td>121868800.0</td>\n",
       "      <td>4.196868e+11</td>\n",
       "      <td>56</td>\n",
       "      <td>1</td>\n",
       "      <td>None</td>\n",
       "    </tr>\n",
       "    <tr>\n",
       "      <th>34</th>\n",
       "      <td>Apple</td>\n",
       "      <td>2015-10-09</td>\n",
       "      <td>25.580677</td>\n",
       "      <td>121868800.0</td>\n",
       "      <td>4.196868e+11</td>\n",
       "      <td>56</td>\n",
       "      <td>1</td>\n",
       "      <td>None</td>\n",
       "    </tr>\n",
       "    <tr>\n",
       "      <th>39</th>\n",
       "      <td>Apple</td>\n",
       "      <td>2015-10-09</td>\n",
       "      <td>25.580677</td>\n",
       "      <td>121868800.0</td>\n",
       "      <td>4.196868e+11</td>\n",
       "      <td>56</td>\n",
       "      <td>1</td>\n",
       "      <td>None</td>\n",
       "    </tr>\n",
       "    <tr>\n",
       "      <th>44</th>\n",
       "      <td>Apple</td>\n",
       "      <td>2015-10-09</td>\n",
       "      <td>25.580677</td>\n",
       "      <td>121868800.0</td>\n",
       "      <td>4.196868e+11</td>\n",
       "      <td>56</td>\n",
       "      <td>1</td>\n",
       "      <td>None</td>\n",
       "    </tr>\n",
       "    <tr>\n",
       "      <th>89</th>\n",
       "      <td>Apple</td>\n",
       "      <td>2015-10-09</td>\n",
       "      <td>25.580677</td>\n",
       "      <td>121868800.0</td>\n",
       "      <td>4.196868e+11</td>\n",
       "      <td>56</td>\n",
       "      <td>1</td>\n",
       "      <td>None</td>\n",
       "    </tr>\n",
       "    <tr>\n",
       "      <th>94</th>\n",
       "      <td>Apple</td>\n",
       "      <td>2015-10-09</td>\n",
       "      <td>25.580677</td>\n",
       "      <td>121868800.0</td>\n",
       "      <td>4.196868e+11</td>\n",
       "      <td>56</td>\n",
       "      <td>1</td>\n",
       "      <td>None</td>\n",
       "    </tr>\n",
       "    <tr>\n",
       "      <th>104</th>\n",
       "      <td>Apple</td>\n",
       "      <td>2015-10-09</td>\n",
       "      <td>25.580677</td>\n",
       "      <td>121868800.0</td>\n",
       "      <td>4.196868e+11</td>\n",
       "      <td>56</td>\n",
       "      <td>1</td>\n",
       "      <td>None</td>\n",
       "    </tr>\n",
       "    <tr>\n",
       "      <th>109</th>\n",
       "      <td>Apple</td>\n",
       "      <td>2015-10-09</td>\n",
       "      <td>25.580677</td>\n",
       "      <td>121868800.0</td>\n",
       "      <td>4.196868e+11</td>\n",
       "      <td>56</td>\n",
       "      <td>1</td>\n",
       "      <td>None</td>\n",
       "    </tr>\n",
       "    <tr>\n",
       "      <th>114</th>\n",
       "      <td>Apple</td>\n",
       "      <td>2015-10-09</td>\n",
       "      <td>25.580677</td>\n",
       "      <td>121868800.0</td>\n",
       "      <td>4.196868e+11</td>\n",
       "      <td>56</td>\n",
       "      <td>1</td>\n",
       "      <td>None</td>\n",
       "    </tr>\n",
       "    <tr>\n",
       "      <th>119</th>\n",
       "      <td>Apple</td>\n",
       "      <td>2015-10-09</td>\n",
       "      <td>25.580677</td>\n",
       "      <td>121868800.0</td>\n",
       "      <td>4.196868e+11</td>\n",
       "      <td>56</td>\n",
       "      <td>1</td>\n",
       "      <td>None</td>\n",
       "    </tr>\n",
       "    <tr>\n",
       "      <th>134</th>\n",
       "      <td>Apple</td>\n",
       "      <td>2015-10-09</td>\n",
       "      <td>25.580677</td>\n",
       "      <td>121868800.0</td>\n",
       "      <td>4.196868e+11</td>\n",
       "      <td>56</td>\n",
       "      <td>1</td>\n",
       "      <td>None</td>\n",
       "    </tr>\n",
       "    <tr>\n",
       "      <th>139</th>\n",
       "      <td>Apple</td>\n",
       "      <td>2015-10-09</td>\n",
       "      <td>25.580677</td>\n",
       "      <td>121868800.0</td>\n",
       "      <td>4.196868e+11</td>\n",
       "      <td>56</td>\n",
       "      <td>1</td>\n",
       "      <td>None</td>\n",
       "    </tr>\n",
       "    <tr>\n",
       "      <th>149</th>\n",
       "      <td>Apple</td>\n",
       "      <td>2015-10-09</td>\n",
       "      <td>25.580677</td>\n",
       "      <td>121868800.0</td>\n",
       "      <td>4.196868e+11</td>\n",
       "      <td>56</td>\n",
       "      <td>1</td>\n",
       "      <td>None</td>\n",
       "    </tr>\n",
       "    <tr>\n",
       "      <th>189</th>\n",
       "      <td>Apple</td>\n",
       "      <td>2015-10-09</td>\n",
       "      <td>25.580677</td>\n",
       "      <td>121868800.0</td>\n",
       "      <td>4.196868e+11</td>\n",
       "      <td>56</td>\n",
       "      <td>1</td>\n",
       "      <td>None</td>\n",
       "    </tr>\n",
       "    <tr>\n",
       "      <th>194</th>\n",
       "      <td>Apple</td>\n",
       "      <td>2015-10-09</td>\n",
       "      <td>25.580677</td>\n",
       "      <td>121868800.0</td>\n",
       "      <td>4.196868e+11</td>\n",
       "      <td>56</td>\n",
       "      <td>1</td>\n",
       "      <td>None</td>\n",
       "    </tr>\n",
       "    <tr>\n",
       "      <th>199</th>\n",
       "      <td>Apple</td>\n",
       "      <td>2015-10-09</td>\n",
       "      <td>25.580677</td>\n",
       "      <td>121868800.0</td>\n",
       "      <td>4.196868e+11</td>\n",
       "      <td>56</td>\n",
       "      <td>1</td>\n",
       "      <td>None</td>\n",
       "    </tr>\n",
       "    <tr>\n",
       "      <th>229</th>\n",
       "      <td>Apple</td>\n",
       "      <td>2015-10-09</td>\n",
       "      <td>25.580677</td>\n",
       "      <td>121868800.0</td>\n",
       "      <td>4.196868e+11</td>\n",
       "      <td>56</td>\n",
       "      <td>1</td>\n",
       "      <td>None</td>\n",
       "    </tr>\n",
       "    <tr>\n",
       "      <th>239</th>\n",
       "      <td>Apple</td>\n",
       "      <td>2015-10-09</td>\n",
       "      <td>25.580677</td>\n",
       "      <td>121868800.0</td>\n",
       "      <td>4.196868e+11</td>\n",
       "      <td>56</td>\n",
       "      <td>1</td>\n",
       "      <td>None</td>\n",
       "    </tr>\n",
       "    <tr>\n",
       "      <th>244</th>\n",
       "      <td>Apple</td>\n",
       "      <td>2015-10-09</td>\n",
       "      <td>25.580677</td>\n",
       "      <td>121868800.0</td>\n",
       "      <td>4.196868e+11</td>\n",
       "      <td>56</td>\n",
       "      <td>1</td>\n",
       "      <td>None</td>\n",
       "    </tr>\n",
       "    <tr>\n",
       "      <th>249</th>\n",
       "      <td>Apple</td>\n",
       "      <td>2015-10-09</td>\n",
       "      <td>25.580677</td>\n",
       "      <td>121868800.0</td>\n",
       "      <td>4.196868e+11</td>\n",
       "      <td>56</td>\n",
       "      <td>1</td>\n",
       "      <td>None</td>\n",
       "    </tr>\n",
       "    <tr>\n",
       "      <th>269</th>\n",
       "      <td>Apple</td>\n",
       "      <td>2015-10-09</td>\n",
       "      <td>25.580677</td>\n",
       "      <td>121868800.0</td>\n",
       "      <td>4.196868e+11</td>\n",
       "      <td>56</td>\n",
       "      <td>1</td>\n",
       "      <td>None</td>\n",
       "    </tr>\n",
       "    <tr>\n",
       "      <th>284</th>\n",
       "      <td>Apple</td>\n",
       "      <td>2015-10-09</td>\n",
       "      <td>25.580677</td>\n",
       "      <td>121868800.0</td>\n",
       "      <td>4.196868e+11</td>\n",
       "      <td>56</td>\n",
       "      <td>1</td>\n",
       "      <td>None</td>\n",
       "    </tr>\n",
       "    <tr>\n",
       "      <th>294</th>\n",
       "      <td>Apple</td>\n",
       "      <td>2015-10-09</td>\n",
       "      <td>25.580677</td>\n",
       "      <td>121868800.0</td>\n",
       "      <td>4.196868e+11</td>\n",
       "      <td>56</td>\n",
       "      <td>1</td>\n",
       "      <td>None</td>\n",
       "    </tr>\n",
       "    <tr>\n",
       "      <th>309</th>\n",
       "      <td>Apple</td>\n",
       "      <td>2015-10-09</td>\n",
       "      <td>25.580677</td>\n",
       "      <td>121868800.0</td>\n",
       "      <td>4.196868e+11</td>\n",
       "      <td>56</td>\n",
       "      <td>1</td>\n",
       "      <td>None</td>\n",
       "    </tr>\n",
       "  </tbody>\n",
       "</table>\n",
       "</div>"
      ],
      "text/plain": [
       "      Name        Date      Close       Volume     MarketCap  Popularity  \\\n",
       "4    Apple  2015-10-09  25.580677  121868800.0  4.196868e+11          56   \n",
       "9    Apple  2015-10-09  25.580677  121868800.0  4.196868e+11          56   \n",
       "34   Apple  2015-10-09  25.580677  121868800.0  4.196868e+11          56   \n",
       "39   Apple  2015-10-09  25.580677  121868800.0  4.196868e+11          56   \n",
       "44   Apple  2015-10-09  25.580677  121868800.0  4.196868e+11          56   \n",
       "89   Apple  2015-10-09  25.580677  121868800.0  4.196868e+11          56   \n",
       "94   Apple  2015-10-09  25.580677  121868800.0  4.196868e+11          56   \n",
       "104  Apple  2015-10-09  25.580677  121868800.0  4.196868e+11          56   \n",
       "109  Apple  2015-10-09  25.580677  121868800.0  4.196868e+11          56   \n",
       "114  Apple  2015-10-09  25.580677  121868800.0  4.196868e+11          56   \n",
       "119  Apple  2015-10-09  25.580677  121868800.0  4.196868e+11          56   \n",
       "134  Apple  2015-10-09  25.580677  121868800.0  4.196868e+11          56   \n",
       "139  Apple  2015-10-09  25.580677  121868800.0  4.196868e+11          56   \n",
       "149  Apple  2015-10-09  25.580677  121868800.0  4.196868e+11          56   \n",
       "189  Apple  2015-10-09  25.580677  121868800.0  4.196868e+11          56   \n",
       "194  Apple  2015-10-09  25.580677  121868800.0  4.196868e+11          56   \n",
       "199  Apple  2015-10-09  25.580677  121868800.0  4.196868e+11          56   \n",
       "229  Apple  2015-10-09  25.580677  121868800.0  4.196868e+11          56   \n",
       "239  Apple  2015-10-09  25.580677  121868800.0  4.196868e+11          56   \n",
       "244  Apple  2015-10-09  25.580677  121868800.0  4.196868e+11          56   \n",
       "249  Apple  2015-10-09  25.580677  121868800.0  4.196868e+11          56   \n",
       "269  Apple  2015-10-09  25.580677  121868800.0  4.196868e+11          56   \n",
       "284  Apple  2015-10-09  25.580677  121868800.0  4.196868e+11          56   \n",
       "294  Apple  2015-10-09  25.580677  121868800.0  4.196868e+11          56   \n",
       "309  Apple  2015-10-09  25.580677  121868800.0  4.196868e+11          56   \n",
       "\n",
       "     Elon compare  \n",
       "4       1    None  \n",
       "9       1    None  \n",
       "34      1    None  \n",
       "39      1    None  \n",
       "44      1    None  \n",
       "89      1    None  \n",
       "94      1    None  \n",
       "104     1    None  \n",
       "109     1    None  \n",
       "114     1    None  \n",
       "119     1    None  \n",
       "134     1    None  \n",
       "139     1    None  \n",
       "149     1    None  \n",
       "189     1    None  \n",
       "194     1    None  \n",
       "199     1    None  \n",
       "229     1    None  \n",
       "239     1    None  \n",
       "244     1    None  \n",
       "249     1    None  \n",
       "269     1    None  \n",
       "284     1    None  \n",
       "294     1    None  \n",
       "309     1    None  "
      ]
     },
     "execution_count": 24,
     "metadata": {},
     "output_type": "execute_result"
    }
   ],
   "source": [
    "data = pd.read_csv('Data/FinalFeatures.csv.bz2')\n",
    "a= data[data['Date']=='2015-10-09']\n",
    "a[a['Name']== 'Apple']"
   ]
  },
  {
   "cell_type": "code",
   "execution_count": null,
   "id": "35d00890",
   "metadata": {},
   "outputs": [],
   "source": [
    "#Propensity score : \n",
    "def add_propensityscore (data):#so that if we want to change only the first line don't have to do it\n",
    "    #With a column of one and zero if elon musk talked about you \n",
    "    #company = company_quote.extend(controled)\n",
    "    #data = compareCompanies(company,date)\n",
    "    #Normalise the features \n",
    "    data['Close'] = (data['Close'] - data['Close'].mean())/data['Close'].std()\n",
    "    data['Volume']= (data['Volume']-data['Volume'].mean())/data['Volume'].std()\n",
    "    data['MarketCap']= (data['MarketCap']-data['MarketCap'].mean())/data['MarketCap'].std()\n",
    "    data['Popularity']= (data['Popularity']-data['Popularity'].mean())/data['Popularity'].std()\n",
    "    #Create the model\n",
    "    mod = smf.logit(formula='Elon ~ Close+ Volume + MarketCap + Popularity', data=data)\n",
    "    res = mod.fit()\n",
    "    data['Propensity_score'] = res.predict()"
   ]
  },
  {
   "cell_type": "code",
   "execution_count": null,
   "id": "befe1042",
   "metadata": {},
   "outputs": [],
   "source": [
    "add_propensityscore(data)"
   ]
  },
  {
   "cell_type": "code",
   "execution_count": null,
   "id": "e02be853",
   "metadata": {},
   "outputs": [],
   "source": [
    "data[data['Name']== 'Samsung']"
   ]
  },
  {
   "cell_type": "code",
   "execution_count": null,
   "id": "db03e8fa",
   "metadata": {},
   "outputs": [],
   "source": [
    "def get_similarity(propensity_score1, propensity_score2):\n",
    "    '''Calculate similarity for instances with given propensity scores'''\n",
    "    return 1-np.abs(propensity_score1-propensity_score2)"
   ]
  },
  {
   "cell_type": "code",
   "execution_count": null,
   "id": "5e94db15",
   "metadata": {},
   "outputs": [],
   "source": [
    "def matchingfunction(companies):\n",
    "    treatment_df = data[data['Elon'] == 1]\n",
    "    control_df   = data[data['Elon'] == 0]\n",
    "    # Create an empty undirected graph\n",
    "    G = nx.Graph()\n",
    "    # Loop through all the pairs of instances\n",
    "    for control_id, control_row in control_df.iterrows():\n",
    "        for treatment_id, treatment_row in treatment_df.iterrows():\n",
    "            if (control_row['compare']== treatment_row['Name']) and (control_row['Date']== treatment_row['Date']) :\n",
    "                # Calculate the similarity \n",
    "                similarity = get_similarity(control_row['Propensity_score'],\n",
    "                                    treatment_row['Propensity_score'])\n",
    "                # Add an edge between the two instances weighted by the similarity between them\n",
    "                G.add_weighted_edges_from([(control_id, treatment_id, similarity)])\n",
    "    # Generate and return the maximum weight matching on the generated graph\n",
    "    matching = nx.max_weight_matching(G)\n",
    "    return matching"
   ]
  },
  {
   "cell_type": "code",
   "execution_count": null,
   "id": "a6bd8b37",
   "metadata": {},
   "outputs": [],
   "source": [
    "matching = matchingfunction(data)\n",
    "matched = [i[0] for i in list(matching)]+ [i[1]for i in list(matching)]\n",
    "balanced = data.iloc[matched]\n"
   ]
  },
  {
   "cell_type": "markdown",
   "id": "19526092",
   "metadata": {},
   "source": [
    "## After matching : \n"
   ]
  },
  {
   "cell_type": "code",
   "execution_count": null,
   "id": "4d009de1",
   "metadata": {},
   "outputs": [],
   "source": [
    "data[data['Name']== 'Apple']"
   ]
  },
  {
   "cell_type": "code",
   "execution_count": null,
   "id": "4436dd47",
   "metadata": {},
   "outputs": [],
   "source": [
    "matching (data)"
   ]
  },
  {
   "cell_type": "code",
   "execution_count": null,
   "id": "aabe5098",
   "metadata": {},
   "outputs": [],
   "source": [
    "treated = balanced.loc[balanced['Elon']==1]"
   ]
  },
  {
   "cell_type": "code",
   "execution_count": null,
   "id": "7b4350bf",
   "metadata": {},
   "outputs": [],
   "source": [
    "controled = balanced.loc[balanced['Elon']==0]"
   ]
  },
  {
   "cell_type": "code",
   "execution_count": null,
   "id": "ae926eea",
   "metadata": {},
   "outputs": [],
   "source": [
    "treated"
   ]
  },
  {
   "cell_type": "code",
   "execution_count": null,
   "id": "b789bb00",
   "metadata": {},
   "outputs": [],
   "source": [
    "controled "
   ]
  },
  {
   "cell_type": "code",
   "execution_count": null,
   "id": "06d6706f",
   "metadata": {},
   "outputs": [],
   "source": [
    "matching\n"
   ]
  },
  {
   "cell_type": "code",
   "execution_count": null,
   "id": "dd4b60e4",
   "metadata": {},
   "outputs": [],
   "source": [
    "matched"
   ]
  },
  {
   "cell_type": "code",
   "execution_count": null,
   "id": "43ac0f6a",
   "metadata": {},
   "outputs": [],
   "source": []
  },
  {
   "cell_type": "code",
   "execution_count": null,
   "id": "1cb88a9e",
   "metadata": {},
   "outputs": [],
   "source": [
    "data_Apple[data_Apple['Date']=='2015-10-09']"
   ]
  },
  {
   "cell_type": "code",
   "execution_count": null,
   "id": "a90a64e4",
   "metadata": {},
   "outputs": [],
   "source": []
  },
  {
   "cell_type": "code",
   "execution_count": null,
   "id": "a88ee5d4",
   "metadata": {},
   "outputs": [],
   "source": []
  },
  {
   "cell_type": "code",
   "execution_count": null,
   "id": "38a4c06a",
   "metadata": {},
   "outputs": [],
   "source": []
  },
  {
   "cell_type": "code",
   "execution_count": null,
   "id": "bc30f2f3",
   "metadata": {},
   "outputs": [],
   "source": []
  },
  {
   "cell_type": "code",
   "execution_count": null,
   "id": "22d0ec3b",
   "metadata": {},
   "outputs": [],
   "source": [
    "before =time.time()\n",
    "quotes_Apple = elon_org_df[elon_org_df['ORG'] == 'Apple']\n",
    "first_date = quotes_Apple.iloc[0]['date'][0:10]\n",
    "Company_Apple =['Microsoft','IBM','Samsung','Dell','Apple'] \n",
    "ticker_Apple =[ticker_of_company('Microsoft'),\n",
    "               ticker_of_company('IBM'),\n",
    "               ticker_of_company('Samsung'),\n",
    "               ticker_of_company('Dell'),\n",
    "              ticker_of_company('Apple')] \n",
    "shares_Apple =[yf.Ticker(ticker_Apple[0]).info['sharesOutstanding'],\n",
    "              yf.Ticker(ticker_Apple[1]).info['sharesOutstanding'],\n",
    "              yf.Ticker(ticker_Apple[2]).info['sharesOutstanding'],\n",
    "              yf.Ticker(ticker_Apple[3]).info['sharesOutstanding'],\n",
    "               yf.Ticker(ticker_Apple[4]).info['sharesOutstanding']]\n",
    "hist_Apple =[yf.Ticker(ticker_Apple[0]).history(start=first_date)[['Close', 'Volume']],\n",
    "              yf.Ticker(ticker_Apple[1]).history(start=first_date)[['Close', 'Volume']],\n",
    "              yf.Ticker(ticker_Apple[2]).history(start=first_date)[['Close', 'Volume']],\n",
    "              yf.Ticker(ticker_Apple[3]).history(start=first_date)[['Close', 'Volume']],\n",
    "               yf.Ticker(ticker_Apple[4]).history(start=first_date)[['Close', 'Volume']]]\n",
    "after =time.time()\n",
    "print('fetch time:',str(after-before))"
   ]
  },
  {
   "cell_type": "code",
   "execution_count": null,
   "id": "ba192ee5",
   "metadata": {},
   "outputs": [],
   "source": [
    "hist_Apple[0].iloc[0]"
   ]
  },
  {
   "cell_type": "code",
   "execution_count": null,
   "id": "75a6b764",
   "metadata": {},
   "outputs": [],
   "source": [
    "hist_Apple[0].iloc[0].name"
   ]
  },
  {
   "cell_type": "code",
   "execution_count": null,
   "id": "de93dc57",
   "metadata": {},
   "outputs": [],
   "source": [
    "hist_Apple[0].iloc[0].name.date() > datetime.date.fromisoformat('2015-12-04')"
   ]
  },
  {
   "cell_type": "code",
   "execution_count": null,
   "id": "b64c0ae1",
   "metadata": {},
   "outputs": [],
   "source": [
    "for i in range(len(hist_Apple[0])):\n",
    "    if hist_Apple[0].iloc[i].name.date() > datetime.date.fromisoformat('2015-12-12'):\n",
    "        print(hist_Apple[0].iloc[i])\n",
    "        break"
   ]
  }
 ],
 "metadata": {
  "kernelspec": {
   "display_name": "Python 3",
   "language": "python",
   "name": "python3"
  },
  "language_info": {
   "codemirror_mode": {
    "name": "ipython",
    "version": 3
   },
   "file_extension": ".py",
   "mimetype": "text/x-python",
   "name": "python",
   "nbconvert_exporter": "python",
   "pygments_lexer": "ipython3",
   "version": "3.8.8"
  }
 },
 "nbformat": 4,
 "nbformat_minor": 5
}
