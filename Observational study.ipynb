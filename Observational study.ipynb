{
 "cells": [
  {
   "cell_type": "markdown",
   "id": "a610c56b",
   "metadata": {},
   "source": [
    "# Observational study "
   ]
  },
  {
   "cell_type": "code",
   "execution_count": 6,
   "id": "04fc0e20",
   "metadata": {},
   "outputs": [],
   "source": [
    "import pandas as pd \n",
    "import numpy as np \n",
    "import matplotlib.pyplot as plt\n",
    "import plotnine\n",
    "from networkx import nx\n",
    "from plotnine import ggplot, aes, geom_bar\n",
    "from functions import *\n",
    "import spacy"
   ]
  },
  {
   "cell_type": "code",
   "execution_count": 16,
   "id": "106381bd",
   "metadata": {},
   "outputs": [
    {
     "ename": "ModuleNotFoundError",
     "evalue": "No module named 'googlesearch'",
     "output_type": "error",
     "traceback": [
      "\u001b[0;31m---------------------------------------------------------------------------\u001b[0m",
      "\u001b[0;31mModuleNotFoundError\u001b[0m                       Traceback (most recent call last)",
      "\u001b[0;32m<ipython-input-16-6b82b7b3ed1e>\u001b[0m in \u001b[0;36m<module>\u001b[0;34m\u001b[0m\n\u001b[0;32m----> 1\u001b[0;31m \u001b[0;32mfrom\u001b[0m \u001b[0mcompare\u001b[0m \u001b[0;32mimport\u001b[0m \u001b[0;34m*\u001b[0m\u001b[0;34m\u001b[0m\u001b[0;34m\u001b[0m\u001b[0m\n\u001b[0m",
      "\u001b[0;32m~/Documents/GitHub/ada-2021-project-madagascar/compare.py\u001b[0m in \u001b[0;36m<module>\u001b[0;34m\u001b[0m\n\u001b[1;32m      1\u001b[0m \u001b[0;32mimport\u001b[0m \u001b[0mpandas\u001b[0m \u001b[0;32mas\u001b[0m \u001b[0mpd\u001b[0m\u001b[0;34m\u001b[0m\u001b[0;34m\u001b[0m\u001b[0m\n\u001b[0;32m----> 2\u001b[0;31m \u001b[0;32mfrom\u001b[0m \u001b[0mfinancials\u001b[0m \u001b[0;32mimport\u001b[0m \u001b[0mstock_info_date\u001b[0m\u001b[0;34m\u001b[0m\u001b[0;34m\u001b[0m\u001b[0m\n\u001b[0m\u001b[1;32m      3\u001b[0m \u001b[0;32mfrom\u001b[0m \u001b[0mpopularity\u001b[0m \u001b[0;32mimport\u001b[0m \u001b[0mtrending_history\u001b[0m\u001b[0;34m\u001b[0m\u001b[0;34m\u001b[0m\u001b[0m\n\u001b[1;32m      4\u001b[0m \u001b[0;34m\u001b[0m\u001b[0m\n\u001b[1;32m      5\u001b[0m \u001b[0;32mdef\u001b[0m \u001b[0mcompareCompanies\u001b[0m\u001b[0;34m(\u001b[0m\u001b[0mcompanies\u001b[0m\u001b[0;34m,\u001b[0m \u001b[0mdate\u001b[0m\u001b[0;34m)\u001b[0m\u001b[0;34m:\u001b[0m\u001b[0;34m\u001b[0m\u001b[0;34m\u001b[0m\u001b[0m\n",
      "\u001b[0;32m~/Documents/GitHub/ada-2021-project-madagascar/financials.py\u001b[0m in \u001b[0;36m<module>\u001b[0;34m\u001b[0m\n\u001b[1;32m      1\u001b[0m \u001b[0;32mimport\u001b[0m \u001b[0myfinance\u001b[0m \u001b[0;32mas\u001b[0m \u001b[0myf\u001b[0m\u001b[0;34m\u001b[0m\u001b[0;34m\u001b[0m\u001b[0m\n\u001b[0;32m----> 2\u001b[0;31m \u001b[0;32mfrom\u001b[0m \u001b[0mgooglesearch\u001b[0m \u001b[0;32mimport\u001b[0m \u001b[0msearch\u001b[0m\u001b[0;34m\u001b[0m\u001b[0;34m\u001b[0m\u001b[0m\n\u001b[0m\u001b[1;32m      3\u001b[0m \u001b[0;32mimport\u001b[0m \u001b[0mpandas\u001b[0m \u001b[0;32mas\u001b[0m \u001b[0mpd\u001b[0m\u001b[0;34m\u001b[0m\u001b[0;34m\u001b[0m\u001b[0m\n\u001b[1;32m      4\u001b[0m \u001b[0;32mimport\u001b[0m \u001b[0mdatetime\u001b[0m \u001b[0;32mas\u001b[0m \u001b[0mdt\u001b[0m\u001b[0;34m\u001b[0m\u001b[0;34m\u001b[0m\u001b[0m\n\u001b[1;32m      5\u001b[0m \u001b[0;32mimport\u001b[0m \u001b[0mmatplotlib\u001b[0m\u001b[0;34m.\u001b[0m\u001b[0mpyplot\u001b[0m \u001b[0;32mas\u001b[0m \u001b[0mplt\u001b[0m\u001b[0;34m\u001b[0m\u001b[0;34m\u001b[0m\u001b[0m\n",
      "\u001b[0;31mModuleNotFoundError\u001b[0m: No module named 'googlesearch'"
     ]
    }
   ],
   "source": [
    "from compare import *"
   ]
  },
  {
   "cell_type": "markdown",
   "id": "7b677e5a",
   "metadata": {},
   "source": [
    "## Matching : "
   ]
  },
  {
   "cell_type": "code",
   "execution_count": 13,
   "id": "ef52f5ae",
   "metadata": {},
   "outputs": [],
   "source": [
    "data = pd.DataFrame(columns = ['Elon','Name','date','Close','Volume','MarketCap','Popularity'])\n",
    "\n",
    "#Data is our data frame with all the companies with first column 1 or 0 if Elon Musk talks about it.\n",
    "# after,Name of the company and the other four covariates \n",
    "def compare (data,company_quotes, date, companies): \n",
    "    companies.append(company_quotes)\n",
    "    company = compareCompanies(companies,date)\n",
    "    company ['Elon']= 0\n",
    "    company ['compare'] = company_quotes\n",
    "    (company[company['Name']==company_quote])['Elon']=1\n",
    "    (company[company['Name']==company_quote])['compare']= 'None'\n",
    "    controled = controled[['Elon', 'Name', 'date', 'Close','Volume','MarketCap','Popularity']]\n",
    "    data.concate(controled)\n",
    "     \n",
    "    \n",
    "#Call this function for all our functions and a set of company that will represent the controled one.\n"
   ]
  },
  {
   "cell_type": "code",
   "execution_count": 14,
   "id": "37160779",
   "metadata": {},
   "outputs": [],
   "source": [
    "#Propensity score : \n",
    "def add_propensityscore (companies, date):#so that if we want to change only the first line don't have to do it\n",
    "    #With a column of one and zero if elon musk talked about you \n",
    "    #company = company_quote.extend(controled)\n",
    "    data = compareCompanies(company,date)\n",
    "    #Normalise the features \n",
    "    data['Close'] = (data['Close'] - data['Close'].mean())/lalonde_data['Close'].std()\n",
    "    data['Volume']= (data['Volume']-data['Volume'].mean())/data['Volume'].std()\n",
    "    data['MarketCap']= (data['MarketCap']-data['MarketCap'].mean())/data['MarketCap'].std()\n",
    "    data['Popularity']= (data['Popularity']-data['Popularity'].mean())/data['Popularity'].std()\n",
    "    #Create the model\n",
    "    mod = smf.logit(formula='elon ~ Close+ Volume + MarketCap + Popularity', data=data)\n",
    "    res = mod.fit()\n",
    "    data['Propensity_score'] = res.predict()"
   ]
  },
  {
   "cell_type": "code",
   "execution_count": 15,
   "id": "6ee40eed",
   "metadata": {},
   "outputs": [],
   "source": [
    "def get_similarity(propensity_score1, propensity_score2):\n",
    "    '''Calculate similarity for instances with given propensity scores'''\n",
    "    return 1-np.abs(propensity_score1-propensity_score2)"
   ]
  },
  {
   "cell_type": "code",
   "execution_count": null,
   "id": "515b898e",
   "metadata": {},
   "outputs": [],
   "source": [
    "def matching(companies):\n",
    "    treatment_df = data[data['elon'] == 1]\n",
    "    control_df   = data[data['elon'] == 0]\n",
    "    # Create an empty undirected graph\n",
    "    G = nx.Graph()\n",
    "    # Loop through all the pairs of instances\n",
    "    for control_id, control_row in control_df.iterrows():\n",
    "        for treatment_id, treatment_row in treatment_df.iterrows():\n",
    "            if (controle_row['compare']== treatment_id) and (controle_row['date']== treatment_row['date']) : \n",
    "                # Calculate the similarity \n",
    "                similarity = get_similarity(control_row['Propensity_score'],\n",
    "                                    treatment_row['Propensity_score'])\n",
    "                # Add an edge between the two instances weighted by the similarity between them\n",
    "                G.add_weighted_edges_from([(control_id, treatment_id, similarity)])\n",
    "    # Generate and return the maximum weight matching on the generated graph\n",
    "    matching = nx.max_weight_matching(G)\n",
    "    return matching"
   ]
  },
  {
   "cell_type": "code",
   "execution_count": null,
   "id": "63b55173",
   "metadata": {},
   "outputs": [],
   "source": [
    "matching = matching(data)\n",
    "matched = [i[0] for i in list(matching)]+ [i[1]for in list(matching)]\n",
    "balanced = data.iloc[matched]\n"
   ]
  },
  {
   "cell_type": "markdown",
   "id": "ec13a20e",
   "metadata": {},
   "source": [
    "## After matching : \n"
   ]
  },
  {
   "cell_type": "code",
   "execution_count": null,
   "id": "9e39a9fa",
   "metadata": {},
   "outputs": [],
   "source": []
  }
 ],
 "metadata": {
  "kernelspec": {
   "display_name": "Python 3",
   "language": "python",
   "name": "python3"
  },
  "language_info": {
   "codemirror_mode": {
    "name": "ipython",
    "version": 3
   },
   "file_extension": ".py",
   "mimetype": "text/x-python",
   "name": "python",
   "nbconvert_exporter": "python",
   "pygments_lexer": "ipython3",
   "version": "3.8.8"
  }
 },
 "nbformat": 4,
 "nbformat_minor": 5
}
