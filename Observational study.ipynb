{
 "cells": [
  {
   "cell_type": "markdown",
   "id": "98833cf3",
   "metadata": {},
   "source": [
    "# Observational study "
   ]
  },
  {
   "cell_type": "code",
   "execution_count": 1,
   "id": "61358806",
   "metadata": {},
   "outputs": [],
   "source": [
    "import pandas as pd \n",
    "import numpy as np \n",
    "import matplotlib.pyplot as plt\n",
    "import plotnine\n",
    "#from networkx import nx\n",
    "from plotnine import ggplot, aes, geom_bar\n",
    "from functions import *\n",
    "import spacy\n",
    "import time\n",
    "import datetime"
   ]
  },
  {
   "cell_type": "code",
   "execution_count": 2,
   "id": "14454f15",
   "metadata": {},
   "outputs": [],
   "source": [
    "from popularity import trending_history\n",
    "from financials import *"
   ]
  },
  {
   "cell_type": "code",
   "execution_count": 3,
   "id": "2b3da3cc",
   "metadata": {},
   "outputs": [],
   "source": [
    "elon_org_df = pd.read_csv('Data/org-lg-Elon Musk.csv.bz2')"
   ]
  },
  {
   "cell_type": "markdown",
   "id": "b6b19fb1",
   "metadata": {},
   "source": [
    "## Matching : "
   ]
  },
  {
   "cell_type": "code",
   "execution_count": 4,
   "id": "68822e48",
   "metadata": {},
   "outputs": [],
   "source": [
    "def compareCompanies(companies, tickers, date, shares, hist):\n",
    "    # Returns a df with the following columns: ['Date', 'Close', 'Volume', 'MarketCap', 'Popularity']\n",
    "    df = pd.DataFrame(companies, columns=['Name'])\n",
    "    df['Date'] = date\n",
    "    \n",
    "    marketData = []\n",
    "\n",
    "    for i in range(len(tickers)):\n",
    "        marketData.append(obs_info(tickers[i], date, shares[i], hist[i]).values.tolist())\n",
    "    \n",
    "    df['Close'] = [i[0] for i in marketData]\n",
    "    df['Volume'] = [i[1] for i in marketData]\n",
    "    df['MarketCap'] = [i[2] for i in marketData]\n",
    "    \n",
    "    df_trend = trending_history(companies, date)\n",
    "    df_trend_list = df_trend.values.tolist()[0]\n",
    "    df['Popularity'] = df_trend_list\n",
    "    \n",
    "    return df\n",
    "\n",
    "def obs_info(ticker, date, sharesOutstanding, comp_hist):\n",
    "    for i in range(len(comp_hist)):\n",
    "        if comp_hist.iloc[i].name.date() > datetime.date.fromisoformat(date):\n",
    "            df = comp_hist.iloc[i]\n",
    "            break\n",
    "\n",
    "    df['MarketCap'] = sharesOutstanding*df['Close']\n",
    "    \n",
    "    return df"
   ]
  },
  {
   "cell_type": "code",
   "execution_count": 5,
   "id": "b98fe67e",
   "metadata": {},
   "outputs": [],
   "source": [
    "data = pd.DataFrame(columns = ['Name','Date','Close','Volume','MarketCap','Popularity','Elon','compare'])\n",
    "\n",
    "#Data is our data frame with all the companies with first column 1 or 0 if Elon Musk talks about it.\n",
    "# after,Name of the company and the other four covariates \n",
    "def compare(company_quote, date, companies, tickers, shares, hist): \n",
    "\n",
    "    company = compareCompanies(companies, tickers, date, shares, hist)\n",
    "\n",
    "    company ['Elon']= 0\n",
    "    company ['compare'] = company_quote\n",
    "    company.at[4,'Elon'] = 1\n",
    "    company.at[4,'compare'] = 'None'\n",
    "    return company\n",
    "    \n",
    "#Call this function for all our functions and a set of company that will represent the controled one."
   ]
  },
  {
   "cell_type": "code",
   "execution_count": 10,
   "id": "33c6df9d",
   "metadata": {},
   "outputs": [],
   "source": [
    "#Apple : \n",
    "def create_data(companies_list):\n",
    "    Company_Apple = companies_list\n",
    "    quotes_Apple = elon_org_df[elon_org_df['ORG'] == Company_Apple[-1]]\n",
    "    first_date = quotes_Apple.iloc[0]['date'][0:10]\n",
    "    ticker_Apple =[ticker_of_company(Company_Apple[0]),\n",
    "                   ticker_of_company(Company_Apple[1]),\n",
    "                   ticker_of_company(Company_Apple[2]),\n",
    "                   ticker_of_company(Company_Apple[3]),\n",
    "                  ticker_of_company(Company_Apple[4])] \n",
    "    shares_Apple =[yf.Ticker(ticker_Apple[0]).info['sharesOutstanding'],\n",
    "                  yf.Ticker(ticker_Apple[1]).info['sharesOutstanding'],\n",
    "                  yf.Ticker(ticker_Apple[2]).info['sharesOutstanding'],\n",
    "                  yf.Ticker(ticker_Apple[3]).info['sharesOutstanding'],\n",
    "                   yf.Ticker(ticker_Apple[4]).info['sharesOutstanding']]\n",
    "    hist_Apple =[yf.Ticker(ticker_Apple[0]).history(start=first_date)[['Close', 'Volume']],\n",
    "                  yf.Ticker(ticker_Apple[1]).history(start=first_date)[['Close', 'Volume']],\n",
    "                  yf.Ticker(ticker_Apple[2]).history(start=first_date)[['Close', 'Volume']],\n",
    "                  yf.Ticker(ticker_Apple[3]).history(start=first_date)[['Close', 'Volume']],\n",
    "                   yf.Ticker(ticker_Apple[4]).history(start=first_date)[['Close', 'Volume']]]\n",
    "\n",
    "    for i in range (len(quotes_Apple)):\n",
    "        date = quotes_Apple.iloc[i,:]['date'][0:10]\n",
    "        before =time.time()\n",
    "        company = compare('Apple', date, Company_Apple, ticker_Apple, shares_Apple, hist_Apple)\n",
    "        after =time.time()\n",
    "        print('fetch time:',str(after-before))\n",
    "        frame = [data, company]\n",
    "        data = pd.concat(frame)\n",
    "    return data"
   ]
  },
  {
   "cell_type": "code",
   "execution_count": null,
   "id": "0a5b33ec",
   "metadata": {},
   "outputs": [],
   "source": [
    "create_data(['Microsoft','IBM','Samsung','Dell','Apple'] )"
   ]
  },
  {
   "cell_type": "code",
   "execution_count": 7,
   "id": "26a90ae5",
   "metadata": {},
   "outputs": [],
   "source": [
    "data.to_csv('Data/ObservationalDat.csv.bz2' , index=False)"
   ]
  },
  {
   "cell_type": "code",
   "execution_count": 8,
   "id": "ba9b37c7",
   "metadata": {},
   "outputs": [
    {
     "data": {
      "text/html": [
       "<div>\n",
       "<style scoped>\n",
       "    .dataframe tbody tr th:only-of-type {\n",
       "        vertical-align: middle;\n",
       "    }\n",
       "\n",
       "    .dataframe tbody tr th {\n",
       "        vertical-align: top;\n",
       "    }\n",
       "\n",
       "    .dataframe thead th {\n",
       "        text-align: right;\n",
       "    }\n",
       "</style>\n",
       "<table border=\"1\" class=\"dataframe\">\n",
       "  <thead>\n",
       "    <tr style=\"text-align: right;\">\n",
       "      <th></th>\n",
       "      <th>Name</th>\n",
       "      <th>Date</th>\n",
       "      <th>Close</th>\n",
       "      <th>Volume</th>\n",
       "      <th>MarketCap</th>\n",
       "      <th>Popularity</th>\n",
       "      <th>Elon</th>\n",
       "      <th>compare</th>\n",
       "    </tr>\n",
       "  </thead>\n",
       "  <tbody>\n",
       "    <tr>\n",
       "      <th>0</th>\n",
       "      <td>Microsoft</td>\n",
       "      <td>2015-10-09</td>\n",
       "      <td>42.247684</td>\n",
       "      <td>19769066.0</td>\n",
       "      <td>3.171948e+11</td>\n",
       "      <td>30</td>\n",
       "      <td>0</td>\n",
       "      <td>Apple</td>\n",
       "    </tr>\n",
       "    <tr>\n",
       "      <th>1</th>\n",
       "      <td>IBM</td>\n",
       "      <td>2015-10-09</td>\n",
       "      <td>114.678062</td>\n",
       "      <td>3227636.0</td>\n",
       "      <td>1.027882e+11</td>\n",
       "      <td>3</td>\n",
       "      <td>0</td>\n",
       "      <td>Apple</td>\n",
       "    </tr>\n",
       "    <tr>\n",
       "      <th>2</th>\n",
       "      <td>Samsung</td>\n",
       "      <td>2015-10-09</td>\n",
       "      <td>21274.500000</td>\n",
       "      <td>18948700.0</td>\n",
       "      <td>1.270041e+14</td>\n",
       "      <td>100</td>\n",
       "      <td>0</td>\n",
       "      <td>Apple</td>\n",
       "    </tr>\n",
       "    <tr>\n",
       "      <th>3</th>\n",
       "      <td>Dell</td>\n",
       "      <td>2015-10-09</td>\n",
       "      <td>42.173302</td>\n",
       "      <td>92700.0</td>\n",
       "      <td>1.222946e+10</td>\n",
       "      <td>15</td>\n",
       "      <td>0</td>\n",
       "      <td>Apple</td>\n",
       "    </tr>\n",
       "    <tr>\n",
       "      <th>4</th>\n",
       "      <td>Apple</td>\n",
       "      <td>2015-10-09</td>\n",
       "      <td>108.199104</td>\n",
       "      <td>30467204.0</td>\n",
       "      <td>1.775158e+12</td>\n",
       "      <td>54</td>\n",
       "      <td>1</td>\n",
       "      <td>None</td>\n",
       "    </tr>\n",
       "    <tr>\n",
       "      <th>...</th>\n",
       "      <td>...</td>\n",
       "      <td>...</td>\n",
       "      <td>...</td>\n",
       "      <td>...</td>\n",
       "      <td>...</td>\n",
       "      <td>...</td>\n",
       "      <td>...</td>\n",
       "      <td>...</td>\n",
       "    </tr>\n",
       "    <tr>\n",
       "      <th>465</th>\n",
       "      <td>Microsoft</td>\n",
       "      <td>2020-03-12</td>\n",
       "      <td>156.284302</td>\n",
       "      <td>92727446.0</td>\n",
       "      <td>1.173379e+12</td>\n",
       "      <td>36</td>\n",
       "      <td>0</td>\n",
       "      <td>Apple</td>\n",
       "    </tr>\n",
       "    <tr>\n",
       "      <th>466</th>\n",
       "      <td>IBM</td>\n",
       "      <td>2020-03-12</td>\n",
       "      <td>98.677086</td>\n",
       "      <td>12502113.0</td>\n",
       "      <td>8.844625e+10</td>\n",
       "      <td>3</td>\n",
       "      <td>0</td>\n",
       "      <td>Apple</td>\n",
       "    </tr>\n",
       "    <tr>\n",
       "      <th>467</th>\n",
       "      <td>Samsung</td>\n",
       "      <td>2020-03-12</td>\n",
       "      <td>47106.953125</td>\n",
       "      <td>59462933.0</td>\n",
       "      <td>2.812182e+14</td>\n",
       "      <td>100</td>\n",
       "      <td>0</td>\n",
       "      <td>Apple</td>\n",
       "    </tr>\n",
       "    <tr>\n",
       "      <th>468</th>\n",
       "      <td>Dell</td>\n",
       "      <td>2020-03-12</td>\n",
       "      <td>35.950001</td>\n",
       "      <td>4887450.0</td>\n",
       "      <td>1.042482e+10</td>\n",
       "      <td>15</td>\n",
       "      <td>0</td>\n",
       "      <td>Apple</td>\n",
       "    </tr>\n",
       "    <tr>\n",
       "      <th>469</th>\n",
       "      <td>Apple</td>\n",
       "      <td>2020-03-12</td>\n",
       "      <td>68.637886</td>\n",
       "      <td>370732128.0</td>\n",
       "      <td>1.126101e+12</td>\n",
       "      <td>61</td>\n",
       "      <td>1</td>\n",
       "      <td>None</td>\n",
       "    </tr>\n",
       "  </tbody>\n",
       "</table>\n",
       "<p>470 rows × 8 columns</p>\n",
       "</div>"
      ],
      "text/plain": [
       "          Name        Date         Close       Volume     MarketCap  \\\n",
       "0    Microsoft  2015-10-09     42.247684   19769066.0  3.171948e+11   \n",
       "1          IBM  2015-10-09    114.678062    3227636.0  1.027882e+11   \n",
       "2      Samsung  2015-10-09  21274.500000   18948700.0  1.270041e+14   \n",
       "3         Dell  2015-10-09     42.173302      92700.0  1.222946e+10   \n",
       "4        Apple  2015-10-09    108.199104   30467204.0  1.775158e+12   \n",
       "..         ...         ...           ...          ...           ...   \n",
       "465  Microsoft  2020-03-12    156.284302   92727446.0  1.173379e+12   \n",
       "466        IBM  2020-03-12     98.677086   12502113.0  8.844625e+10   \n",
       "467    Samsung  2020-03-12  47106.953125   59462933.0  2.812182e+14   \n",
       "468       Dell  2020-03-12     35.950001    4887450.0  1.042482e+10   \n",
       "469      Apple  2020-03-12     68.637886  370732128.0  1.126101e+12   \n",
       "\n",
       "     Popularity  Elon compare  \n",
       "0            30     0   Apple  \n",
       "1             3     0   Apple  \n",
       "2           100     0   Apple  \n",
       "3            15     0   Apple  \n",
       "4            54     1    None  \n",
       "..          ...   ...     ...  \n",
       "465          36     0   Apple  \n",
       "466           3     0   Apple  \n",
       "467         100     0   Apple  \n",
       "468          15     0   Apple  \n",
       "469          61     1    None  \n",
       "\n",
       "[470 rows x 8 columns]"
      ]
     },
     "execution_count": 8,
     "metadata": {},
     "output_type": "execute_result"
    }
   ],
   "source": [
    "data = pd.read_csv('Data/ObservationalDat.csv.bz2')\n",
    "data"
   ]
  },
  {
   "cell_type": "code",
   "execution_count": 9,
   "id": "f81c534e",
   "metadata": {},
   "outputs": [
    {
     "name": "stdout",
     "output_type": "stream",
     "text": [
      "2208\n",
      "0\n"
     ]
    },
    {
     "ename": "TypeError",
     "evalue": "compare() missing 3 required positional arguments: 'tickers', 'shares', and 'hist'",
     "output_type": "error",
     "traceback": [
      "\u001b[1;31m---------------------------------------------------------------------------\u001b[0m",
      "\u001b[1;31mTypeError\u001b[0m                                 Traceback (most recent call last)",
      "\u001b[1;32m~\\AppData\\Local\\Temp/ipykernel_11008/2118824211.py\u001b[0m in \u001b[0;36m<module>\u001b[1;34m\u001b[0m\n\u001b[0;32m      6\u001b[0m     \u001b[0mprint\u001b[0m \u001b[1;33m(\u001b[0m\u001b[0mi\u001b[0m\u001b[1;33m)\u001b[0m\u001b[1;33m\u001b[0m\u001b[1;33m\u001b[0m\u001b[0m\n\u001b[0;32m      7\u001b[0m     \u001b[0mdate\u001b[0m \u001b[1;33m=\u001b[0m \u001b[0mquotes_Tesla\u001b[0m\u001b[1;33m.\u001b[0m\u001b[0miloc\u001b[0m\u001b[1;33m[\u001b[0m\u001b[0mi\u001b[0m\u001b[1;33m,\u001b[0m\u001b[1;33m:\u001b[0m\u001b[1;33m]\u001b[0m\u001b[1;33m[\u001b[0m\u001b[1;34m'date'\u001b[0m\u001b[1;33m]\u001b[0m\u001b[1;33m[\u001b[0m\u001b[1;36m0\u001b[0m\u001b[1;33m:\u001b[0m\u001b[1;36m10\u001b[0m\u001b[1;33m]\u001b[0m\u001b[1;33m\u001b[0m\u001b[1;33m\u001b[0m\u001b[0m\n\u001b[1;32m----> 8\u001b[1;33m     \u001b[0mcompany\u001b[0m \u001b[1;33m=\u001b[0m \u001b[0mcompare\u001b[0m\u001b[1;33m(\u001b[0m\u001b[1;34m'Tesla'\u001b[0m\u001b[1;33m,\u001b[0m\u001b[0mdate\u001b[0m\u001b[1;33m,\u001b[0m\u001b[0mCompany_Tesla\u001b[0m\u001b[1;33m)\u001b[0m\u001b[1;33m\u001b[0m\u001b[1;33m\u001b[0m\u001b[0m\n\u001b[0m\u001b[0;32m      9\u001b[0m     \u001b[0mframe\u001b[0m \u001b[1;33m=\u001b[0m \u001b[1;33m[\u001b[0m\u001b[0mdata\u001b[0m\u001b[1;33m,\u001b[0m \u001b[0mcompany\u001b[0m\u001b[1;33m]\u001b[0m\u001b[1;33m\u001b[0m\u001b[1;33m\u001b[0m\u001b[0m\n\u001b[0;32m     10\u001b[0m     \u001b[0mdata\u001b[0m \u001b[1;33m=\u001b[0m \u001b[0mpd\u001b[0m\u001b[1;33m.\u001b[0m\u001b[0mconcat\u001b[0m\u001b[1;33m(\u001b[0m\u001b[0mframe\u001b[0m\u001b[1;33m)\u001b[0m\u001b[1;33m\u001b[0m\u001b[1;33m\u001b[0m\u001b[0m\n",
      "\u001b[1;31mTypeError\u001b[0m: compare() missing 3 required positional arguments: 'tickers', 'shares', and 'hist'"
     ]
    }
   ],
   "source": [
    "#Tesla : \n",
    "Company_Tesla = ['Toyota','BMW','VolksWagen','General Motors']\n",
    "quotes_Tesla = elon_org_df[elon_org_df['ORG']== 'Tesla']\n",
    "print ( len(quotes_Tesla))\n",
    "for i in range (20):\n",
    "    print (i)\n",
    "    date = quotes_Tesla.iloc[i,:]['date'][0:10]\n",
    "    company = compare('Tesla',date,Company_Tesla)\n",
    "    frame = [data, company]\n",
    "    data = pd.concat(frame)"
   ]
  },
  {
   "cell_type": "code",
   "execution_count": null,
   "id": "d99d478b",
   "metadata": {},
   "outputs": [],
   "source": []
  },
  {
   "cell_type": "code",
   "execution_count": null,
   "id": "44260141",
   "metadata": {},
   "outputs": [],
   "source": [
    "data.to_csv('Data/ObservationalDat.csv.bz2')"
   ]
  },
  {
   "cell_type": "code",
   "execution_count": null,
   "id": "72268826",
   "metadata": {},
   "outputs": [],
   "source": [
    "dates = quotes_Tesla['date'].unique()\n",
    "print (len(dates))\n"
   ]
  },
  {
   "cell_type": "code",
   "execution_count": null,
   "id": "835482c8",
   "metadata": {},
   "outputs": [],
   "source": [
    "for i in range (1000):\n",
    "    print (i)\n",
    "    date = quotes_Tesla.iloc[i+20,:]['date'][0:10]\n",
    "    company = compare('Tesla',date,Company_Tesla)\n",
    "    frame = [data, company]\n",
    "    data = pd.concat(frame)"
   ]
  },
  {
   "cell_type": "code",
   "execution_count": null,
   "id": "a4905b0b",
   "metadata": {},
   "outputs": [],
   "source": [
    "data\n"
   ]
  },
  {
   "cell_type": "code",
   "execution_count": null,
   "id": "e04f524b",
   "metadata": {},
   "outputs": [],
   "source": [
    "data.to_csv('Data/ObservationalDat.csv.bz2')"
   ]
  },
  {
   "cell_type": "code",
   "execution_count": null,
   "id": "e2d12e9b",
   "metadata": {},
   "outputs": [],
   "source": [
    "for i in range (1000):\n",
    "    print (i)\n",
    "    date = quotes_Tesla.iloc[i+36,:]['date'][0:10]\n",
    "    company = compare('Tesla',date,Company_Tesla)\n",
    "    frame = [data, company]\n",
    "    data = pd.concat(frame)"
   ]
  },
  {
   "cell_type": "code",
   "execution_count": null,
   "id": "c9f4f5bf",
   "metadata": {},
   "outputs": [],
   "source": [
    "data"
   ]
  },
  {
   "cell_type": "code",
   "execution_count": null,
   "id": "f1a3baec",
   "metadata": {},
   "outputs": [],
   "source": [
    "data.to_csv('Data/ObservationalDat.csv.bz2')"
   ]
  },
  {
   "cell_type": "code",
   "execution_count": null,
   "id": "e7fb8b94",
   "metadata": {},
   "outputs": [],
   "source": [
    "for i in range (1000):\n",
    "    print (i)\n",
    "    date = quotes_Tesla.iloc[i+20,:]['date'][0:10]\n",
    "    company = compare('Tesla',date,Company_Tesla)\n",
    "    frame = [data, company]\n",
    "    data = pd.concat(frame)"
   ]
  },
  {
   "cell_type": "code",
   "execution_count": null,
   "id": "68d4d7dd",
   "metadata": {},
   "outputs": [],
   "source": [
    "#Twitter : \n",
    "Company_Twitter = ['Google','Facebook','Snapchat','Pinterest']\n",
    "quotes_Twitter = elon_org_df[elon_org_df['ORG']== 'Twitter']\n",
    "print (len(quotes_Twitter))\n",
    "for i in range (len(quotes_Twitter)):\n",
    "    print (i)\n",
    "    date = quotes_Twitter.iloc[i,:]['date'][0:10]\n",
    "    company = compare('Twitter',date,Company_Twitter)\n",
    "    frame = [data, company]\n",
    "    data = pd.concat(frame)"
   ]
  },
  {
   "cell_type": "code",
   "execution_count": null,
   "id": "f41767a2",
   "metadata": {},
   "outputs": [],
   "source": [
    "#Ford : \n",
    "Company_Ford = ['Toyota','Fiat','General Motors','Stellantis']\n",
    "quotes_Ford = elon_org_df[elon_org_df['ORG']=='Ford']\n",
    "print (len(quotes_Ford))\n",
    "for i in range (len(quotes_Ford)):\n",
    "    print (i)\n",
    "    date = quotes_Ford.iloc[i,:]['date'][0:10]\n",
    "    company = compare('Ford',date,Company_Ford)\n",
    "    frame = [data, company]\n",
    "    data = pd.concat(frame)"
   ]
  },
  {
   "cell_type": "code",
   "execution_count": null,
   "id": "b70793b1",
   "metadata": {},
   "outputs": [],
   "source": [
    "#Paypal :\n",
    "Company_PayPal = ['Western Union','EuroNet','MoneyGram','Payoneer']\n",
    "quotes_PayPal = elon_org_df[elon_org_df['ORG']== 'PayPal']\n",
    "print ( len(quotes_PayPal))\n",
    "for i in range (len(quotes_PayPal)):\n",
    "    print (i)\n",
    "    date = quotes_PayPal.iloc[i,:]['date'][0:10]\n",
    "    company = compare('PayPal',date,Company_PayPal)\n",
    "    frame = [data, company]\n",
    "    data = pd.concat(frame)"
   ]
  },
  {
   "cell_type": "code",
   "execution_count": null,
   "id": "146b1493",
   "metadata": {},
   "outputs": [],
   "source": [
    "data"
   ]
  },
  {
   "cell_type": "code",
   "execution_count": null,
   "id": "35d00890",
   "metadata": {},
   "outputs": [],
   "source": [
    "#Propensity score : \n",
    "def add_propensityscore (companies, date):#so that if we want to change only the first line don't have to do it\n",
    "    #With a column of one and zero if elon musk talked about you \n",
    "    #company = company_quote.extend(controled)\n",
    "    data = compareCompanies(company,date)\n",
    "    #Normalise the features \n",
    "    data['Close'] = (data['Close'] - data['Close'].mean())/lalonde_data['Close'].std()\n",
    "    data['Volume']= (data['Volume']-data['Volume'].mean())/data['Volume'].std()\n",
    "    data['MarketCap']= (data['MarketCap']-data['MarketCap'].mean())/data['MarketCap'].std()\n",
    "    data['Popularity']= (data['Popularity']-data['Popularity'].mean())/data['Popularity'].std()\n",
    "    #Create the model\n",
    "    mod = smf.logit(formula='elon ~ Close+ Volume + MarketCap + Popularity', data=data)\n",
    "    res = mod.fit()\n",
    "    data['Propensity_score'] = res.predict()"
   ]
  },
  {
   "cell_type": "code",
   "execution_count": null,
   "id": "befe1042",
   "metadata": {},
   "outputs": [],
   "source": []
  },
  {
   "cell_type": "code",
   "execution_count": null,
   "id": "db03e8fa",
   "metadata": {},
   "outputs": [],
   "source": [
    "def get_similarity(propensity_score1, propensity_score2):\n",
    "    '''Calculate similarity for instances with given propensity scores'''\n",
    "    return 1-np.abs(propensity_score1-propensity_score2)"
   ]
  },
  {
   "cell_type": "code",
   "execution_count": null,
   "id": "5e94db15",
   "metadata": {},
   "outputs": [],
   "source": [
    "def matching(companies):\n",
    "    treatment_df = data[data['elon'] == 1]\n",
    "    control_df   = data[data['elon'] == 0]\n",
    "    # Create an empty undirected graph\n",
    "    G = nx.Graph()\n",
    "    # Loop through all the pairs of instances\n",
    "    for control_id, control_row in control_df.iterrows():\n",
    "        for treatment_id, treatment_row in treatment_df.iterrows():\n",
    "            if (controle_row['compare']== treatment_id) and (controle_row['date']== treatment_row['date']) : \n",
    "                # Calculate the similarity \n",
    "                similarity = get_similarity(control_row['Propensity_score'],\n",
    "                                    treatment_row['Propensity_score'])\n",
    "                # Add an edge between the two instances weighted by the similarity between them\n",
    "                G.add_weighted_edges_from([(control_id, treatment_id, similarity)])\n",
    "    # Generate and return the maximum weight matching on the generated graph\n",
    "    matching = nx.max_weight_matching(G)\n",
    "    return matching"
   ]
  },
  {
   "cell_type": "code",
   "execution_count": null,
   "id": "a6bd8b37",
   "metadata": {},
   "outputs": [],
   "source": [
    "matching = matching(data)\n",
    "matched = [i[0] for i in list(matching)]+ [i[1]for in list(matching)]\n",
    "balanced = data.iloc[matched]\n"
   ]
  },
  {
   "cell_type": "markdown",
   "id": "19526092",
   "metadata": {},
   "source": [
    "## After matching : \n"
   ]
  },
  {
   "cell_type": "code",
   "execution_count": null,
   "id": "4d009de1",
   "metadata": {},
   "outputs": [],
   "source": []
  },
  {
   "cell_type": "code",
   "execution_count": null,
   "id": "4436dd47",
   "metadata": {},
   "outputs": [],
   "source": []
  },
  {
   "cell_type": "code",
   "execution_count": null,
   "id": "aabe5098",
   "metadata": {},
   "outputs": [],
   "source": []
  },
  {
   "cell_type": "code",
   "execution_count": null,
   "id": "7b4350bf",
   "metadata": {},
   "outputs": [],
   "source": []
  },
  {
   "cell_type": "code",
   "execution_count": null,
   "id": "ae926eea",
   "metadata": {},
   "outputs": [],
   "source": []
  },
  {
   "cell_type": "code",
   "execution_count": null,
   "id": "b789bb00",
   "metadata": {},
   "outputs": [],
   "source": []
  },
  {
   "cell_type": "code",
   "execution_count": null,
   "id": "06d6706f",
   "metadata": {},
   "outputs": [],
   "source": []
  },
  {
   "cell_type": "code",
   "execution_count": null,
   "id": "dd4b60e4",
   "metadata": {},
   "outputs": [],
   "source": []
  },
  {
   "cell_type": "code",
   "execution_count": null,
   "id": "43ac0f6a",
   "metadata": {},
   "outputs": [],
   "source": []
  },
  {
   "cell_type": "code",
   "execution_count": null,
   "id": "1cb88a9e",
   "metadata": {},
   "outputs": [],
   "source": []
  },
  {
   "cell_type": "code",
   "execution_count": null,
   "id": "a90a64e4",
   "metadata": {},
   "outputs": [],
   "source": []
  },
  {
   "cell_type": "code",
   "execution_count": null,
   "id": "a720c5ab",
   "metadata": {},
   "outputs": [],
   "source": []
  },
  {
   "cell_type": "code",
   "execution_count": null,
   "id": "a88ee5d4",
   "metadata": {},
   "outputs": [],
   "source": []
  },
  {
   "cell_type": "code",
   "execution_count": null,
   "id": "38a4c06a",
   "metadata": {},
   "outputs": [],
   "source": []
  },
  {
   "cell_type": "code",
   "execution_count": null,
   "id": "bc30f2f3",
   "metadata": {},
   "outputs": [],
   "source": []
  },
  {
   "cell_type": "code",
   "execution_count": null,
   "id": "22d0ec3b",
   "metadata": {},
   "outputs": [],
   "source": [
    "before =time.time()\n",
    "quotes_Apple = elon_org_df[elon_org_df['ORG'] == 'Apple']\n",
    "first_date = quotes_Apple.iloc[0]['date'][0:10]\n",
    "Company_Apple =['Microsoft','IBM','Samsung','Dell','Apple'] \n",
    "ticker_Apple =[ticker_of_company('Microsoft'),\n",
    "               ticker_of_company('IBM'),\n",
    "               ticker_of_company('Samsung'),\n",
    "               ticker_of_company('Dell'),\n",
    "              ticker_of_company('Apple')] \n",
    "shares_Apple =[yf.Ticker(ticker_Apple[0]).info['sharesOutstanding'],\n",
    "              yf.Ticker(ticker_Apple[1]).info['sharesOutstanding'],\n",
    "              yf.Ticker(ticker_Apple[2]).info['sharesOutstanding'],\n",
    "              yf.Ticker(ticker_Apple[3]).info['sharesOutstanding'],\n",
    "               yf.Ticker(ticker_Apple[4]).info['sharesOutstanding']]\n",
    "hist_Apple =[yf.Ticker(ticker_Apple[0]).history(start=first_date)[['Close', 'Volume']],\n",
    "              yf.Ticker(ticker_Apple[1]).history(start=first_date)[['Close', 'Volume']],\n",
    "              yf.Ticker(ticker_Apple[2]).history(start=first_date)[['Close', 'Volume']],\n",
    "              yf.Ticker(ticker_Apple[3]).history(start=first_date)[['Close', 'Volume']],\n",
    "               yf.Ticker(ticker_Apple[4]).history(start=first_date)[['Close', 'Volume']]]\n",
    "after =time.time()\n",
    "print('fetch time:',str(after-before))"
   ]
  },
  {
   "cell_type": "code",
   "execution_count": null,
   "id": "ba192ee5",
   "metadata": {},
   "outputs": [],
   "source": [
    "hist_Apple[0].iloc[0]"
   ]
  },
  {
   "cell_type": "code",
   "execution_count": null,
   "id": "75a6b764",
   "metadata": {},
   "outputs": [],
   "source": [
    "hist_Apple[0].iloc[0].name"
   ]
  },
  {
   "cell_type": "code",
   "execution_count": null,
   "id": "de93dc57",
   "metadata": {},
   "outputs": [],
   "source": [
    "hist_Apple[0].iloc[0].name.date() > datetime.date.fromisoformat('2015-12-04')"
   ]
  },
  {
   "cell_type": "code",
   "execution_count": null,
   "id": "b64c0ae1",
   "metadata": {},
   "outputs": [],
   "source": [
    "for i in range(len(hist_Apple[0])):\n",
    "    if hist_Apple[0].iloc[i].name.date() > datetime.date.fromisoformat('2015-12-12'):\n",
    "        print(hist_Apple[0].iloc[i])\n",
    "        break"
   ]
  }
 ],
 "metadata": {
  "kernelspec": {
   "display_name": "Python 3 (ipykernel)",
   "language": "python",
   "name": "python3"
  },
  "language_info": {
   "codemirror_mode": {
    "name": "ipython",
    "version": 3
   },
   "file_extension": ".py",
   "mimetype": "text/x-python",
   "name": "python",
   "nbconvert_exporter": "python",
   "pygments_lexer": "ipython3",
   "version": "3.9.1"
  }
 },
 "nbformat": 4,
 "nbformat_minor": 5
}
