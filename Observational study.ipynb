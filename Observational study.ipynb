{
 "cells": [
  {
   "cell_type": "markdown",
   "id": "98833cf3",
   "metadata": {},
   "source": [
    "# Observational study "
   ]
  },
  {
   "cell_type": "code",
   "execution_count": 15,
   "id": "61358806",
   "metadata": {},
   "outputs": [],
   "source": [
    "import pandas as pd \n",
    "import numpy as np \n",
    "import matplotlib.pyplot as plt\n",
    "import plotnine\n",
    "#from networkx import nx\n",
    "from plotnine import ggplot, aes, geom_bar\n",
    "from functions import *\n",
    "import spacy\n",
    "import time\n",
    "import datetime"
   ]
  },
  {
   "cell_type": "code",
   "execution_count": 16,
   "id": "14454f15",
   "metadata": {},
   "outputs": [],
   "source": [
    "from popularity import trending_history\n",
    "from financials import *"
   ]
  },
  {
   "cell_type": "code",
   "execution_count": 17,
   "id": "2b3da3cc",
   "metadata": {},
   "outputs": [],
   "source": [
    "elon_org_df = pd.read_csv('Data/org-lg-Elon Musk.csv.bz2')"
   ]
  },
  {
   "cell_type": "markdown",
   "id": "b6b19fb1",
   "metadata": {},
   "source": [
    "## Matching : "
   ]
  },
  {
   "cell_type": "code",
   "execution_count": 18,
   "id": "68822e48",
   "metadata": {},
   "outputs": [],
   "source": [
    "def compareCompanies(companies, tickers, date, shares, hist):\n",
    "    # Returns a df with the following columns: ['Date', 'Close', 'Volume', 'MarketCap', 'Popularity']\n",
    "    df = pd.DataFrame(companies, columns=['Name'])\n",
    "    df['Date'] = date\n",
    "    \n",
    "    marketData = []\n",
    "\n",
    "    for i in range(len(tickers)):\n",
    "        marketData.append(obs_info(tickers[i], date, shares[i], hist[i]).values.tolist())\n",
    "    \n",
    "    df['Close'] = [i[0] for i in marketData]\n",
    "    df['Volume'] = [i[1] for i in marketData]\n",
    "    df['MarketCap'] = [i[2] for i in marketData]\n",
    "    \n",
    "    df_trend = trending_history(companies, date)\n",
    "    df_trend_list = df_trend.values.tolist()[0]\n",
    "    df['Popularity'] = df_trend_list\n",
    "    \n",
    "    return df\n",
    "\n",
    "def obs_info(ticker, date, sharesOutstanding, comp_hist):\n",
    "    for i in range(len(comp_hist)):\n",
    "        if comp_hist.iloc[i].name.date() > datetime.date.fromisoformat(date):\n",
    "            df = comp_hist.iloc[i]\n",
    "            break\n",
    "\n",
    "    df['MarketCap'] = sharesOutstanding*df['Close']\n",
    "    \n",
    "    return df"
   ]
  },
  {
   "cell_type": "code",
   "execution_count": 19,
   "id": "b98fe67e",
   "metadata": {},
   "outputs": [],
   "source": [
    "#Data is our data frame with all the companies with first column 1 or 0 if Elon Musk talks about it.\n",
    "# after,Name of the company and the other four covariates \n",
    "def compare(company_quote, date, companies, tickers, shares, hist): \n",
    "\n",
    "    company = compareCompanies(companies, tickers, date, shares, hist)\n",
    "\n",
    "    company ['Elon']= 0\n",
    "    company ['compare'] = company_quote\n",
    "    company.at[4,'Elon'] = 1\n",
    "    company.at[4,'compare'] = 'None'\n",
    "    return company\n",
    "    \n",
    "#Call this function for all our functions and a set of company that will represent the controled one."
   ]
  },
  {
   "cell_type": "code",
   "execution_count": 46,
   "id": "33c6df9d",
   "metadata": {},
   "outputs": [],
   "source": [
    "def create_data(companies_list, start, end):\n",
    "    Company = companies_list\n",
    "    company_quotes = Company [-1]\n",
    "    quotes = elon_org_df[elon_org_df['ORG'] == company_quotes]\n",
    "    first_date = quotes.iloc[0]['date'][0:10]\n",
    "    ticker =[ticker_of_company(Company[0]),\n",
    "             ticker_of_company(Company[1]),\n",
    "             ticker_of_company(Company[2]),\n",
    "             ticker_of_company(Company[3]),\n",
    "             ticker_of_company(Company[4])] \n",
    "    print (ticker[0])\n",
    "    shares=[yf.Ticker(ticker[0]).info['sharesOutstanding'],\n",
    "            yf.Ticker(ticker[1]).info['sharesOutstanding'],\n",
    "            yf.Ticker(ticker[2]).info['sharesOutstanding'],\n",
    "            yf.Ticker(ticker[3]).info['sharesOutstanding'],\n",
    "            yf.Ticker(ticker[4]).info['sharesOutstanding']]\n",
    "    hist =[yf.Ticker(ticker[0]).history(start=first_date)[['Close', 'Volume']],\n",
    "           yf.Ticker(ticker[1]).history(start=first_date)[['Close', 'Volume']],\n",
    "           yf.Ticker(ticker[2]).history(start=first_date)[['Close', 'Volume']],\n",
    "           yf.Ticker(ticker[3]).history(start=first_date)[['Close', 'Volume']],\n",
    "           yf.Ticker(ticker[4]).history(start=first_date)[['Close', 'Volume']]]\n",
    "    data = pd.DataFrame(columns = ['Name','Date','Close','Volume','MarketCap','Popularity','Elon','compare'])\n",
    "    for i in range (start,end):\n",
    "        date = quotes.iloc[i,:]['date'][0:10]\n",
    "        company = compare(company_quotes, date, Company, ticker, shares, hist)\n",
    "        frame = [data, company]\n",
    "        data = pd.concat(frame)\n",
    "    return data"
   ]
  },
  {
   "cell_type": "code",
   "execution_count": 25,
   "id": "0a5b33ec",
   "metadata": {},
   "outputs": [
    {
     "name": "stderr",
     "output_type": "stream",
     "text": [
      "<ipython-input-18-fb78ad33690e>:27: SettingWithCopyWarning: \n",
      "A value is trying to be set on a copy of a slice from a DataFrame\n",
      "\n",
      "See the caveats in the documentation: https://pandas.pydata.org/pandas-docs/stable/user_guide/indexing.html#returning-a-view-versus-a-copy\n",
      "/Users/selimajaoua/opt/anaconda3/lib/python3.8/site-packages/pandas/core/indexing.py:692: SettingWithCopyWarning: \n",
      "A value is trying to be set on a copy of a slice from a DataFrame\n",
      "\n",
      "See the caveats in the documentation: https://pandas.pydata.org/pandas-docs/stable/user_guide/indexing.html#returning-a-view-versus-a-copy\n",
      "<ipython-input-18-fb78ad33690e>:27: SettingWithCopyWarning: \n",
      "A value is trying to be set on a copy of a slice from a DataFrame\n",
      "\n",
      "See the caveats in the documentation: https://pandas.pydata.org/pandas-docs/stable/user_guide/indexing.html#returning-a-view-versus-a-copy\n",
      "/Users/selimajaoua/opt/anaconda3/lib/python3.8/site-packages/pandas/core/indexing.py:692: SettingWithCopyWarning: \n",
      "A value is trying to be set on a copy of a slice from a DataFrame\n",
      "\n",
      "See the caveats in the documentation: https://pandas.pydata.org/pandas-docs/stable/user_guide/indexing.html#returning-a-view-versus-a-copy\n"
     ]
    },
    {
     "ename": "ResponseError",
     "evalue": "The request failed: Google returned a response with code 429.",
     "output_type": "error",
     "traceback": [
      "\u001b[0;31m---------------------------------------------------------------------------\u001b[0m",
      "\u001b[0;31mResponseError\u001b[0m                             Traceback (most recent call last)",
      "\u001b[0;32m<ipython-input-25-ccfa212618ec>\u001b[0m in \u001b[0;36m<module>\u001b[0;34m\u001b[0m\n\u001b[1;32m      2\u001b[0m \u001b[0mdata_Apple\u001b[0m \u001b[0;34m=\u001b[0m \u001b[0mcreate_data\u001b[0m\u001b[0;34m(\u001b[0m\u001b[0;34m[\u001b[0m\u001b[0;34m'Microsoft'\u001b[0m\u001b[0;34m,\u001b[0m\u001b[0;34m'IBM'\u001b[0m\u001b[0;34m,\u001b[0m\u001b[0;34m'Samsung'\u001b[0m\u001b[0;34m,\u001b[0m\u001b[0;34m'Dell'\u001b[0m\u001b[0;34m,\u001b[0m\u001b[0;34m'Apple'\u001b[0m\u001b[0;34m]\u001b[0m \u001b[0;34m)\u001b[0m\u001b[0;34m\u001b[0m\u001b[0;34m\u001b[0m\u001b[0m\n\u001b[1;32m      3\u001b[0m \u001b[0;31m#Tesla:\u001b[0m\u001b[0;34m\u001b[0m\u001b[0;34m\u001b[0m\u001b[0;34m\u001b[0m\u001b[0m\n\u001b[0;32m----> 4\u001b[0;31m \u001b[0mdata_Tesla\u001b[0m \u001b[0;34m=\u001b[0m \u001b[0mcreate_data\u001b[0m\u001b[0;34m(\u001b[0m\u001b[0;34m[\u001b[0m\u001b[0;34m'Toyota'\u001b[0m\u001b[0;34m,\u001b[0m\u001b[0;34m'BMW'\u001b[0m\u001b[0;34m,\u001b[0m\u001b[0;34m'VolksWagen'\u001b[0m\u001b[0;34m,\u001b[0m\u001b[0;34m'General Motors'\u001b[0m\u001b[0;34m,\u001b[0m\u001b[0;34m'Tesla'\u001b[0m\u001b[0;34m]\u001b[0m\u001b[0;34m)\u001b[0m\u001b[0;34m\u001b[0m\u001b[0;34m\u001b[0m\u001b[0m\n\u001b[0m\u001b[1;32m      5\u001b[0m \u001b[0;31m#Twitter :\u001b[0m\u001b[0;34m\u001b[0m\u001b[0;34m\u001b[0m\u001b[0;34m\u001b[0m\u001b[0m\n\u001b[1;32m      6\u001b[0m \u001b[0mdata_Twitter\u001b[0m \u001b[0;34m=\u001b[0m \u001b[0mcreate_data\u001b[0m\u001b[0;34m(\u001b[0m\u001b[0;34m[\u001b[0m\u001b[0;34m'Google'\u001b[0m\u001b[0;34m,\u001b[0m\u001b[0;34m'Facebook'\u001b[0m\u001b[0;34m,\u001b[0m\u001b[0;34m'Snapchat'\u001b[0m\u001b[0;34m,\u001b[0m\u001b[0;34m'Pinterest'\u001b[0m\u001b[0;34m,\u001b[0m\u001b[0;34m'Twitter'\u001b[0m\u001b[0;34m]\u001b[0m\u001b[0;34m)\u001b[0m\u001b[0;34m\u001b[0m\u001b[0;34m\u001b[0m\u001b[0m\n",
      "\u001b[0;32m<ipython-input-24-5385c4de55ca>\u001b[0m in \u001b[0;36mcreate_data\u001b[0;34m(companies_list)\u001b[0m\n\u001b[1;32m     22\u001b[0m     \u001b[0;32mfor\u001b[0m \u001b[0mi\u001b[0m \u001b[0;32min\u001b[0m \u001b[0mrange\u001b[0m \u001b[0;34m(\u001b[0m\u001b[0mlen\u001b[0m\u001b[0;34m(\u001b[0m\u001b[0mquotes\u001b[0m\u001b[0;34m)\u001b[0m\u001b[0;34m)\u001b[0m\u001b[0;34m:\u001b[0m\u001b[0;34m\u001b[0m\u001b[0;34m\u001b[0m\u001b[0m\n\u001b[1;32m     23\u001b[0m         \u001b[0mdate\u001b[0m \u001b[0;34m=\u001b[0m \u001b[0mquotes\u001b[0m\u001b[0;34m.\u001b[0m\u001b[0miloc\u001b[0m\u001b[0;34m[\u001b[0m\u001b[0mi\u001b[0m\u001b[0;34m,\u001b[0m\u001b[0;34m:\u001b[0m\u001b[0;34m]\u001b[0m\u001b[0;34m[\u001b[0m\u001b[0;34m'date'\u001b[0m\u001b[0;34m]\u001b[0m\u001b[0;34m[\u001b[0m\u001b[0;36m0\u001b[0m\u001b[0;34m:\u001b[0m\u001b[0;36m10\u001b[0m\u001b[0;34m]\u001b[0m\u001b[0;34m\u001b[0m\u001b[0;34m\u001b[0m\u001b[0m\n\u001b[0;32m---> 24\u001b[0;31m         \u001b[0mcompany\u001b[0m \u001b[0;34m=\u001b[0m \u001b[0mcompare\u001b[0m\u001b[0;34m(\u001b[0m\u001b[0mcompany_quotes\u001b[0m\u001b[0;34m,\u001b[0m \u001b[0mdate\u001b[0m\u001b[0;34m,\u001b[0m \u001b[0mCompany\u001b[0m\u001b[0;34m,\u001b[0m \u001b[0mticker\u001b[0m\u001b[0;34m,\u001b[0m \u001b[0mshares\u001b[0m\u001b[0;34m,\u001b[0m \u001b[0mhist\u001b[0m\u001b[0;34m)\u001b[0m\u001b[0;34m\u001b[0m\u001b[0;34m\u001b[0m\u001b[0m\n\u001b[0m\u001b[1;32m     25\u001b[0m         \u001b[0mframe\u001b[0m \u001b[0;34m=\u001b[0m \u001b[0;34m[\u001b[0m\u001b[0mdata\u001b[0m\u001b[0;34m,\u001b[0m \u001b[0mcompany\u001b[0m\u001b[0;34m]\u001b[0m\u001b[0;34m\u001b[0m\u001b[0;34m\u001b[0m\u001b[0m\n\u001b[1;32m     26\u001b[0m         \u001b[0mdata\u001b[0m \u001b[0;34m=\u001b[0m \u001b[0mpd\u001b[0m\u001b[0;34m.\u001b[0m\u001b[0mconcat\u001b[0m\u001b[0;34m(\u001b[0m\u001b[0mframe\u001b[0m\u001b[0;34m)\u001b[0m\u001b[0;34m\u001b[0m\u001b[0;34m\u001b[0m\u001b[0m\n",
      "\u001b[0;32m<ipython-input-19-47d307fdad68>\u001b[0m in \u001b[0;36mcompare\u001b[0;34m(company_quote, date, companies, tickers, shares, hist)\u001b[0m\n\u001b[1;32m      3\u001b[0m \u001b[0;32mdef\u001b[0m \u001b[0mcompare\u001b[0m\u001b[0;34m(\u001b[0m\u001b[0mcompany_quote\u001b[0m\u001b[0;34m,\u001b[0m \u001b[0mdate\u001b[0m\u001b[0;34m,\u001b[0m \u001b[0mcompanies\u001b[0m\u001b[0;34m,\u001b[0m \u001b[0mtickers\u001b[0m\u001b[0;34m,\u001b[0m \u001b[0mshares\u001b[0m\u001b[0;34m,\u001b[0m \u001b[0mhist\u001b[0m\u001b[0;34m)\u001b[0m\u001b[0;34m:\u001b[0m\u001b[0;34m\u001b[0m\u001b[0;34m\u001b[0m\u001b[0m\n\u001b[1;32m      4\u001b[0m \u001b[0;34m\u001b[0m\u001b[0m\n\u001b[0;32m----> 5\u001b[0;31m     \u001b[0mcompany\u001b[0m \u001b[0;34m=\u001b[0m \u001b[0mcompareCompanies\u001b[0m\u001b[0;34m(\u001b[0m\u001b[0mcompanies\u001b[0m\u001b[0;34m,\u001b[0m \u001b[0mtickers\u001b[0m\u001b[0;34m,\u001b[0m \u001b[0mdate\u001b[0m\u001b[0;34m,\u001b[0m \u001b[0mshares\u001b[0m\u001b[0;34m,\u001b[0m \u001b[0mhist\u001b[0m\u001b[0;34m)\u001b[0m\u001b[0;34m\u001b[0m\u001b[0;34m\u001b[0m\u001b[0m\n\u001b[0m\u001b[1;32m      6\u001b[0m \u001b[0;34m\u001b[0m\u001b[0m\n\u001b[1;32m      7\u001b[0m     \u001b[0mcompany\u001b[0m \u001b[0;34m[\u001b[0m\u001b[0;34m'Elon'\u001b[0m\u001b[0;34m]\u001b[0m\u001b[0;34m=\u001b[0m \u001b[0;36m0\u001b[0m\u001b[0;34m\u001b[0m\u001b[0;34m\u001b[0m\u001b[0m\n",
      "\u001b[0;32m<ipython-input-18-fb78ad33690e>\u001b[0m in \u001b[0;36mcompareCompanies\u001b[0;34m(companies, tickers, date, shares, hist)\u001b[0m\n\u001b[1;32m     13\u001b[0m     \u001b[0mdf\u001b[0m\u001b[0;34m[\u001b[0m\u001b[0;34m'MarketCap'\u001b[0m\u001b[0;34m]\u001b[0m \u001b[0;34m=\u001b[0m \u001b[0;34m[\u001b[0m\u001b[0mi\u001b[0m\u001b[0;34m[\u001b[0m\u001b[0;36m2\u001b[0m\u001b[0;34m]\u001b[0m \u001b[0;32mfor\u001b[0m \u001b[0mi\u001b[0m \u001b[0;32min\u001b[0m \u001b[0mmarketData\u001b[0m\u001b[0;34m]\u001b[0m\u001b[0;34m\u001b[0m\u001b[0;34m\u001b[0m\u001b[0m\n\u001b[1;32m     14\u001b[0m \u001b[0;34m\u001b[0m\u001b[0m\n\u001b[0;32m---> 15\u001b[0;31m     \u001b[0mdf_trend\u001b[0m \u001b[0;34m=\u001b[0m \u001b[0mtrending_history\u001b[0m\u001b[0;34m(\u001b[0m\u001b[0mcompanies\u001b[0m\u001b[0;34m,\u001b[0m \u001b[0mdate\u001b[0m\u001b[0;34m)\u001b[0m\u001b[0;34m\u001b[0m\u001b[0;34m\u001b[0m\u001b[0m\n\u001b[0m\u001b[1;32m     16\u001b[0m     \u001b[0mdf_trend_list\u001b[0m \u001b[0;34m=\u001b[0m \u001b[0mdf_trend\u001b[0m\u001b[0;34m.\u001b[0m\u001b[0mvalues\u001b[0m\u001b[0;34m.\u001b[0m\u001b[0mtolist\u001b[0m\u001b[0;34m(\u001b[0m\u001b[0;34m)\u001b[0m\u001b[0;34m[\u001b[0m\u001b[0;36m0\u001b[0m\u001b[0;34m]\u001b[0m\u001b[0;34m\u001b[0m\u001b[0;34m\u001b[0m\u001b[0m\n\u001b[1;32m     17\u001b[0m     \u001b[0mdf\u001b[0m\u001b[0;34m[\u001b[0m\u001b[0;34m'Popularity'\u001b[0m\u001b[0;34m]\u001b[0m \u001b[0;34m=\u001b[0m \u001b[0mdf_trend_list\u001b[0m\u001b[0;34m\u001b[0m\u001b[0;34m\u001b[0m\u001b[0m\n",
      "\u001b[0;32m~/Documents/GitHub/ada-2021-project-madagascar/popularity.py\u001b[0m in \u001b[0;36mtrending_history\u001b[0;34m(kw_list, start_date, end_date, plot)\u001b[0m\n\u001b[1;32m     10\u001b[0m \u001b[0;34m\u001b[0m\u001b[0m\n\u001b[1;32m     11\u001b[0m     \u001b[0mpytrends\u001b[0m \u001b[0;34m=\u001b[0m \u001b[0mTrendReq\u001b[0m\u001b[0;34m(\u001b[0m\u001b[0mhl\u001b[0m\u001b[0;34m=\u001b[0m\u001b[0;34m'en-US'\u001b[0m\u001b[0;34m,\u001b[0m \u001b[0mtz\u001b[0m\u001b[0;34m=\u001b[0m\u001b[0;36m360\u001b[0m\u001b[0;34m)\u001b[0m\u001b[0;34m\u001b[0m\u001b[0;34m\u001b[0m\u001b[0m\n\u001b[0;32m---> 12\u001b[0;31m     \u001b[0mpytrends\u001b[0m\u001b[0;34m.\u001b[0m\u001b[0mbuild_payload\u001b[0m\u001b[0;34m(\u001b[0m\u001b[0mkw_list\u001b[0m\u001b[0;34m,\u001b[0m \u001b[0mcat\u001b[0m\u001b[0;34m=\u001b[0m\u001b[0;36m0\u001b[0m\u001b[0;34m,\u001b[0m \u001b[0mtimeframe\u001b[0m\u001b[0;34m=\u001b[0m\u001b[0;34mf'{start_date} {end_date}'\u001b[0m\u001b[0;34m,\u001b[0m \u001b[0mgeo\u001b[0m\u001b[0;34m=\u001b[0m\u001b[0;34m''\u001b[0m\u001b[0;34m,\u001b[0m \u001b[0mgprop\u001b[0m\u001b[0;34m=\u001b[0m\u001b[0;34m''\u001b[0m\u001b[0;34m)\u001b[0m\u001b[0;34m\u001b[0m\u001b[0;34m\u001b[0m\u001b[0m\n\u001b[0m\u001b[1;32m     13\u001b[0m     \u001b[0mdf\u001b[0m \u001b[0;34m=\u001b[0m \u001b[0mpytrends\u001b[0m\u001b[0;34m.\u001b[0m\u001b[0minterest_over_time\u001b[0m\u001b[0;34m(\u001b[0m\u001b[0;34m)\u001b[0m\u001b[0;34m\u001b[0m\u001b[0;34m\u001b[0m\u001b[0m\n\u001b[1;32m     14\u001b[0m     \u001b[0;32mdel\u001b[0m \u001b[0mdf\u001b[0m\u001b[0;34m[\u001b[0m\u001b[0;34m'isPartial'\u001b[0m\u001b[0;34m]\u001b[0m\u001b[0;34m\u001b[0m\u001b[0;34m\u001b[0m\u001b[0m\n",
      "\u001b[0;32m~/opt/anaconda3/lib/python3.8/site-packages/pytrends/request.py\u001b[0m in \u001b[0;36mbuild_payload\u001b[0;34m(self, kw_list, cat, timeframe, geo, gprop)\u001b[0m\n\u001b[1;32m    167\u001b[0m         \u001b[0mself\u001b[0m\u001b[0;34m.\u001b[0m\u001b[0mtoken_payload\u001b[0m\u001b[0;34m[\u001b[0m\u001b[0;34m'req'\u001b[0m\u001b[0;34m]\u001b[0m \u001b[0;34m=\u001b[0m \u001b[0mjson\u001b[0m\u001b[0;34m.\u001b[0m\u001b[0mdumps\u001b[0m\u001b[0;34m(\u001b[0m\u001b[0mself\u001b[0m\u001b[0;34m.\u001b[0m\u001b[0mtoken_payload\u001b[0m\u001b[0;34m[\u001b[0m\u001b[0;34m'req'\u001b[0m\u001b[0;34m]\u001b[0m\u001b[0;34m)\u001b[0m\u001b[0;34m\u001b[0m\u001b[0;34m\u001b[0m\u001b[0m\n\u001b[1;32m    168\u001b[0m         \u001b[0;31m# get tokens\u001b[0m\u001b[0;34m\u001b[0m\u001b[0;34m\u001b[0m\u001b[0;34m\u001b[0m\u001b[0m\n\u001b[0;32m--> 169\u001b[0;31m         \u001b[0mself\u001b[0m\u001b[0;34m.\u001b[0m\u001b[0m_tokens\u001b[0m\u001b[0;34m(\u001b[0m\u001b[0;34m)\u001b[0m\u001b[0;34m\u001b[0m\u001b[0;34m\u001b[0m\u001b[0m\n\u001b[0m\u001b[1;32m    170\u001b[0m         \u001b[0;32mreturn\u001b[0m\u001b[0;34m\u001b[0m\u001b[0;34m\u001b[0m\u001b[0m\n\u001b[1;32m    171\u001b[0m \u001b[0;34m\u001b[0m\u001b[0m\n",
      "\u001b[0;32m~/opt/anaconda3/lib/python3.8/site-packages/pytrends/request.py\u001b[0m in \u001b[0;36m_tokens\u001b[0;34m(self)\u001b[0m\n\u001b[1;32m    173\u001b[0m         \u001b[0;34m\"\"\"Makes request to Google to get API tokens for interest over time, interest by region and related queries\"\"\"\u001b[0m\u001b[0;34m\u001b[0m\u001b[0;34m\u001b[0m\u001b[0m\n\u001b[1;32m    174\u001b[0m         \u001b[0;31m# make the request and parse the returned json\u001b[0m\u001b[0;34m\u001b[0m\u001b[0;34m\u001b[0m\u001b[0;34m\u001b[0m\u001b[0m\n\u001b[0;32m--> 175\u001b[0;31m         widget_dict = self._get_data(\n\u001b[0m\u001b[1;32m    176\u001b[0m             \u001b[0murl\u001b[0m\u001b[0;34m=\u001b[0m\u001b[0mTrendReq\u001b[0m\u001b[0;34m.\u001b[0m\u001b[0mGENERAL_URL\u001b[0m\u001b[0;34m,\u001b[0m\u001b[0;34m\u001b[0m\u001b[0;34m\u001b[0m\u001b[0m\n\u001b[1;32m    177\u001b[0m             \u001b[0mmethod\u001b[0m\u001b[0;34m=\u001b[0m\u001b[0mTrendReq\u001b[0m\u001b[0;34m.\u001b[0m\u001b[0mGET_METHOD\u001b[0m\u001b[0;34m,\u001b[0m\u001b[0;34m\u001b[0m\u001b[0;34m\u001b[0m\u001b[0m\n",
      "\u001b[0;32m~/opt/anaconda3/lib/python3.8/site-packages/pytrends/request.py\u001b[0m in \u001b[0;36m_get_data\u001b[0;34m(self, url, method, trim_chars, **kwargs)\u001b[0m\n\u001b[1;32m    143\u001b[0m         \u001b[0;32melse\u001b[0m\u001b[0;34m:\u001b[0m\u001b[0;34m\u001b[0m\u001b[0;34m\u001b[0m\u001b[0m\n\u001b[1;32m    144\u001b[0m             \u001b[0;31m# error\u001b[0m\u001b[0;34m\u001b[0m\u001b[0;34m\u001b[0m\u001b[0;34m\u001b[0m\u001b[0m\n\u001b[0;32m--> 145\u001b[0;31m             raise exceptions.ResponseError(\n\u001b[0m\u001b[1;32m    146\u001b[0m                 \u001b[0;34m'The request failed: Google returned a '\u001b[0m\u001b[0;34m\u001b[0m\u001b[0;34m\u001b[0m\u001b[0m\n\u001b[1;32m    147\u001b[0m                 \u001b[0;34m'response with code {0}.'\u001b[0m\u001b[0;34m.\u001b[0m\u001b[0mformat\u001b[0m\u001b[0;34m(\u001b[0m\u001b[0mresponse\u001b[0m\u001b[0;34m.\u001b[0m\u001b[0mstatus_code\u001b[0m\u001b[0;34m)\u001b[0m\u001b[0;34m,\u001b[0m\u001b[0;34m\u001b[0m\u001b[0;34m\u001b[0m\u001b[0m\n",
      "\u001b[0;31mResponseError\u001b[0m: The request failed: Google returned a response with code 429."
     ]
    }
   ],
   "source": [
    "#Apple: \n",
    "data_Apple = create_data(['Microsoft','IBM','Samsung','Dell','Apple'] )"
   ]
  },
  {
   "cell_type": "code",
   "execution_count": 31,
   "id": "e82b8515",
   "metadata": {},
   "outputs": [
    {
     "name": "stderr",
     "output_type": "stream",
     "text": [
      "<ipython-input-18-fb78ad33690e>:27: SettingWithCopyWarning: \n",
      "A value is trying to be set on a copy of a slice from a DataFrame\n",
      "\n",
      "See the caveats in the documentation: https://pandas.pydata.org/pandas-docs/stable/user_guide/indexing.html#returning-a-view-versus-a-copy\n",
      "/Users/selimajaoua/opt/anaconda3/lib/python3.8/site-packages/pandas/core/indexing.py:692: SettingWithCopyWarning: \n",
      "A value is trying to be set on a copy of a slice from a DataFrame\n",
      "\n",
      "See the caveats in the documentation: https://pandas.pydata.org/pandas-docs/stable/user_guide/indexing.html#returning-a-view-versus-a-copy\n"
     ]
    }
   ],
   "source": [
    "#PayPal : \n",
    "data_PayPal = create_data(['Western Union','EuroNet','MoneyGram','Payoneer','PayPal'])"
   ]
  },
  {
   "cell_type": "code",
   "execution_count": 28,
   "id": "44f51943",
   "metadata": {},
   "outputs": [
    {
     "name": "stderr",
     "output_type": "stream",
     "text": [
      "<ipython-input-18-fb78ad33690e>:27: SettingWithCopyWarning: \n",
      "A value is trying to be set on a copy of a slice from a DataFrame\n",
      "\n",
      "See the caveats in the documentation: https://pandas.pydata.org/pandas-docs/stable/user_guide/indexing.html#returning-a-view-versus-a-copy\n",
      "/Users/selimajaoua/opt/anaconda3/lib/python3.8/site-packages/pandas/core/indexing.py:692: SettingWithCopyWarning: \n",
      "A value is trying to be set on a copy of a slice from a DataFrame\n",
      "\n",
      "See the caveats in the documentation: https://pandas.pydata.org/pandas-docs/stable/user_guide/indexing.html#returning-a-view-versus-a-copy\n"
     ]
    }
   ],
   "source": [
    "#Twitter : \n",
    "data_Twitter = create_data(['Google','Facebook','Snapchat','Pinterest','Twitter'])"
   ]
  },
  {
   "cell_type": "code",
   "execution_count": 47,
   "id": "75af0c36",
   "metadata": {},
   "outputs": [
    {
     "name": "stdout",
     "output_type": "stream",
     "text": [
      "rivn\n"
     ]
    },
    {
     "name": "stderr",
     "output_type": "stream",
     "text": [
      "<ipython-input-18-fb78ad33690e>:27: SettingWithCopyWarning: \n",
      "A value is trying to be set on a copy of a slice from a DataFrame\n",
      "\n",
      "See the caveats in the documentation: https://pandas.pydata.org/pandas-docs/stable/user_guide/indexing.html#returning-a-view-versus-a-copy\n",
      "/Users/selimajaoua/opt/anaconda3/lib/python3.8/site-packages/pandas/core/indexing.py:692: SettingWithCopyWarning: \n",
      "A value is trying to be set on a copy of a slice from a DataFrame\n",
      "\n",
      "See the caveats in the documentation: https://pandas.pydata.org/pandas-docs/stable/user_guide/indexing.html#returning-a-view-versus-a-copy\n"
     ]
    }
   ],
   "source": [
    "#Tesla: \n",
    "data_Tesla = create_data(['Rivian','Lucid','VolksWagen','General Motors','Tesla'],0,100)"
   ]
  },
  {
   "cell_type": "code",
   "execution_count": 48,
   "id": "e2db6156",
   "metadata": {},
   "outputs": [
    {
     "data": {
      "text/html": [
       "<div>\n",
       "<style scoped>\n",
       "    .dataframe tbody tr th:only-of-type {\n",
       "        vertical-align: middle;\n",
       "    }\n",
       "\n",
       "    .dataframe tbody tr th {\n",
       "        vertical-align: top;\n",
       "    }\n",
       "\n",
       "    .dataframe thead th {\n",
       "        text-align: right;\n",
       "    }\n",
       "</style>\n",
       "<table border=\"1\" class=\"dataframe\">\n",
       "  <thead>\n",
       "    <tr style=\"text-align: right;\">\n",
       "      <th></th>\n",
       "      <th>Name</th>\n",
       "      <th>Date</th>\n",
       "      <th>Close</th>\n",
       "      <th>Volume</th>\n",
       "      <th>MarketCap</th>\n",
       "      <th>Popularity</th>\n",
       "      <th>Elon</th>\n",
       "      <th>compare</th>\n",
       "    </tr>\n",
       "  </thead>\n",
       "  <tbody>\n",
       "    <tr>\n",
       "      <th>0</th>\n",
       "      <td>Rivian</td>\n",
       "      <td>2015-10-09</td>\n",
       "      <td>100.730003</td>\n",
       "      <td>103679466.0</td>\n",
       "      <td>8.898488e+10</td>\n",
       "      <td>0</td>\n",
       "      <td>0</td>\n",
       "      <td>Tesla</td>\n",
       "    </tr>\n",
       "    <tr>\n",
       "      <th>1</th>\n",
       "      <td>Lucid</td>\n",
       "      <td>2015-10-09</td>\n",
       "      <td>26.830000</td>\n",
       "      <td>31573182.0</td>\n",
       "      <td>4.417211e+10</td>\n",
       "      <td>4</td>\n",
       "      <td>0</td>\n",
       "      <td>Tesla</td>\n",
       "    </tr>\n",
       "    <tr>\n",
       "      <th>2</th>\n",
       "      <td>VolksWagen</td>\n",
       "      <td>2015-10-09</td>\n",
       "      <td>95.200851</td>\n",
       "      <td>1891476.0</td>\n",
       "      <td>1.963089e+10</td>\n",
       "      <td>100</td>\n",
       "      <td>0</td>\n",
       "      <td>Tesla</td>\n",
       "    </tr>\n",
       "    <tr>\n",
       "      <th>3</th>\n",
       "      <td>General Motors</td>\n",
       "      <td>2015-10-09</td>\n",
       "      <td>27.247112</td>\n",
       "      <td>10766373.0</td>\n",
       "      <td>3.955899e+10</td>\n",
       "      <td>2</td>\n",
       "      <td>0</td>\n",
       "      <td>Tesla</td>\n",
       "    </tr>\n",
       "    <tr>\n",
       "      <th>4</th>\n",
       "      <td>Tesla</td>\n",
       "      <td>2015-10-09</td>\n",
       "      <td>215.580002</td>\n",
       "      <td>3836303.0</td>\n",
       "      <td>2.164984e+11</td>\n",
       "      <td>42</td>\n",
       "      <td>1</td>\n",
       "      <td>None</td>\n",
       "    </tr>\n",
       "    <tr>\n",
       "      <th>...</th>\n",
       "      <td>...</td>\n",
       "      <td>...</td>\n",
       "      <td>...</td>\n",
       "      <td>...</td>\n",
       "      <td>...</td>\n",
       "      <td>...</td>\n",
       "      <td>...</td>\n",
       "      <td>...</td>\n",
       "    </tr>\n",
       "    <tr>\n",
       "      <th>0</th>\n",
       "      <td>Rivian</td>\n",
       "      <td>2015-10-09</td>\n",
       "      <td>100.730003</td>\n",
       "      <td>103679466.0</td>\n",
       "      <td>8.898488e+10</td>\n",
       "      <td>0</td>\n",
       "      <td>0</td>\n",
       "      <td>Tesla</td>\n",
       "    </tr>\n",
       "    <tr>\n",
       "      <th>1</th>\n",
       "      <td>Lucid</td>\n",
       "      <td>2015-10-09</td>\n",
       "      <td>26.830000</td>\n",
       "      <td>31573182.0</td>\n",
       "      <td>4.417211e+10</td>\n",
       "      <td>4</td>\n",
       "      <td>0</td>\n",
       "      <td>Tesla</td>\n",
       "    </tr>\n",
       "    <tr>\n",
       "      <th>2</th>\n",
       "      <td>VolksWagen</td>\n",
       "      <td>2015-10-09</td>\n",
       "      <td>95.200851</td>\n",
       "      <td>1891476.0</td>\n",
       "      <td>1.963089e+10</td>\n",
       "      <td>100</td>\n",
       "      <td>0</td>\n",
       "      <td>Tesla</td>\n",
       "    </tr>\n",
       "    <tr>\n",
       "      <th>3</th>\n",
       "      <td>General Motors</td>\n",
       "      <td>2015-10-09</td>\n",
       "      <td>27.247112</td>\n",
       "      <td>10766373.0</td>\n",
       "      <td>3.955899e+10</td>\n",
       "      <td>2</td>\n",
       "      <td>0</td>\n",
       "      <td>Tesla</td>\n",
       "    </tr>\n",
       "    <tr>\n",
       "      <th>4</th>\n",
       "      <td>Tesla</td>\n",
       "      <td>2015-10-09</td>\n",
       "      <td>215.580002</td>\n",
       "      <td>3836303.0</td>\n",
       "      <td>2.164984e+11</td>\n",
       "      <td>42</td>\n",
       "      <td>1</td>\n",
       "      <td>None</td>\n",
       "    </tr>\n",
       "  </tbody>\n",
       "</table>\n",
       "<p>500 rows × 8 columns</p>\n",
       "</div>"
      ],
      "text/plain": [
       "              Name        Date       Close       Volume     MarketCap  \\\n",
       "0           Rivian  2015-10-09  100.730003  103679466.0  8.898488e+10   \n",
       "1            Lucid  2015-10-09   26.830000   31573182.0  4.417211e+10   \n",
       "2       VolksWagen  2015-10-09   95.200851    1891476.0  1.963089e+10   \n",
       "3   General Motors  2015-10-09   27.247112   10766373.0  3.955899e+10   \n",
       "4            Tesla  2015-10-09  215.580002    3836303.0  2.164984e+11   \n",
       "..             ...         ...         ...          ...           ...   \n",
       "0           Rivian  2015-10-09  100.730003  103679466.0  8.898488e+10   \n",
       "1            Lucid  2015-10-09   26.830000   31573182.0  4.417211e+10   \n",
       "2       VolksWagen  2015-10-09   95.200851    1891476.0  1.963089e+10   \n",
       "3   General Motors  2015-10-09   27.247112   10766373.0  3.955899e+10   \n",
       "4            Tesla  2015-10-09  215.580002    3836303.0  2.164984e+11   \n",
       "\n",
       "   Popularity Elon compare  \n",
       "0           0    0   Tesla  \n",
       "1           4    0   Tesla  \n",
       "2         100    0   Tesla  \n",
       "3           2    0   Tesla  \n",
       "4          42    1    None  \n",
       "..        ...  ...     ...  \n",
       "0           0    0   Tesla  \n",
       "1           4    0   Tesla  \n",
       "2         100    0   Tesla  \n",
       "3           2    0   Tesla  \n",
       "4          42    1    None  \n",
       "\n",
       "[500 rows x 8 columns]"
      ]
     },
     "execution_count": 48,
     "metadata": {},
     "output_type": "execute_result"
    }
   ],
   "source": [
    "data_Tesla"
   ]
  },
  {
   "cell_type": "code",
   "execution_count": 49,
   "id": "8cce9713",
   "metadata": {},
   "outputs": [
    {
     "name": "stdout",
     "output_type": "stream",
     "text": [
      "rivn\n"
     ]
    },
    {
     "name": "stderr",
     "output_type": "stream",
     "text": [
      "<ipython-input-18-fb78ad33690e>:27: SettingWithCopyWarning: \n",
      "A value is trying to be set on a copy of a slice from a DataFrame\n",
      "\n",
      "See the caveats in the documentation: https://pandas.pydata.org/pandas-docs/stable/user_guide/indexing.html#returning-a-view-versus-a-copy\n",
      "/Users/selimajaoua/opt/anaconda3/lib/python3.8/site-packages/pandas/core/indexing.py:692: SettingWithCopyWarning: \n",
      "A value is trying to be set on a copy of a slice from a DataFrame\n",
      "\n",
      "See the caveats in the documentation: https://pandas.pydata.org/pandas-docs/stable/user_guide/indexing.html#returning-a-view-versus-a-copy\n"
     ]
    },
    {
     "name": "stdout",
     "output_type": "stream",
     "text": [
      "rivn\n"
     ]
    },
    {
     "ename": "KeyError",
     "evalue": "'sharesOutstanding'",
     "output_type": "error",
     "traceback": [
      "\u001b[0;31m---------------------------------------------------------------------------\u001b[0m",
      "\u001b[0;31mKeyError\u001b[0m                                  Traceback (most recent call last)",
      "\u001b[0;32m<ipython-input-49-bb5ef4bd5da4>\u001b[0m in \u001b[0;36m<module>\u001b[0;34m\u001b[0m\n\u001b[1;32m      1\u001b[0m \u001b[0;32mfor\u001b[0m \u001b[0mi\u001b[0m \u001b[0;32min\u001b[0m \u001b[0mrange\u001b[0m\u001b[0;34m(\u001b[0m\u001b[0;36m100\u001b[0m\u001b[0;34m,\u001b[0m\u001b[0;36m2200\u001b[0m\u001b[0;34m,\u001b[0m\u001b[0;36m100\u001b[0m\u001b[0;34m)\u001b[0m\u001b[0;34m:\u001b[0m\u001b[0;34m\u001b[0m\u001b[0;34m\u001b[0m\u001b[0m\n\u001b[0;32m----> 2\u001b[0;31m     \u001b[0mdata_t\u001b[0m \u001b[0;34m=\u001b[0m \u001b[0mcreate_data\u001b[0m\u001b[0;34m(\u001b[0m\u001b[0;34m[\u001b[0m\u001b[0;34m'Rivian'\u001b[0m\u001b[0;34m,\u001b[0m\u001b[0;34m'Lucid'\u001b[0m\u001b[0;34m,\u001b[0m\u001b[0;34m'VolksWagen'\u001b[0m\u001b[0;34m,\u001b[0m\u001b[0;34m'General Motors'\u001b[0m\u001b[0;34m,\u001b[0m\u001b[0;34m'Tesla'\u001b[0m\u001b[0;34m]\u001b[0m\u001b[0;34m,\u001b[0m\u001b[0mi\u001b[0m\u001b[0;34m,\u001b[0m\u001b[0mi\u001b[0m\u001b[0;34m+\u001b[0m\u001b[0;36m100\u001b[0m\u001b[0;34m)\u001b[0m\u001b[0;34m\u001b[0m\u001b[0;34m\u001b[0m\u001b[0m\n\u001b[0m\u001b[1;32m      3\u001b[0m     \u001b[0mframe\u001b[0m \u001b[0;34m=\u001b[0m \u001b[0;34m[\u001b[0m \u001b[0mdata_Tesla\u001b[0m\u001b[0;34m,\u001b[0m \u001b[0mdata_t\u001b[0m\u001b[0;34m]\u001b[0m\u001b[0;34m\u001b[0m\u001b[0;34m\u001b[0m\u001b[0m\n\u001b[1;32m      4\u001b[0m     \u001b[0mdata_Tesla\u001b[0m \u001b[0;34m=\u001b[0m \u001b[0mpd\u001b[0m\u001b[0;34m.\u001b[0m\u001b[0mconcat\u001b[0m\u001b[0;34m(\u001b[0m\u001b[0mframe\u001b[0m\u001b[0;34m)\u001b[0m\u001b[0;34m\u001b[0m\u001b[0;34m\u001b[0m\u001b[0m\n\u001b[1;32m      5\u001b[0m \u001b[0;34m\u001b[0m\u001b[0m\n",
      "\u001b[0;32m<ipython-input-46-2812bd1c5f54>\u001b[0m in \u001b[0;36mcreate_data\u001b[0;34m(companies_list, start, end)\u001b[0m\n\u001b[1;32m     10\u001b[0m              ticker_of_company(Company[4])] \n\u001b[1;32m     11\u001b[0m     \u001b[0mprint\u001b[0m \u001b[0;34m(\u001b[0m\u001b[0mticker\u001b[0m\u001b[0;34m[\u001b[0m\u001b[0;36m0\u001b[0m\u001b[0;34m]\u001b[0m\u001b[0;34m)\u001b[0m\u001b[0;34m\u001b[0m\u001b[0;34m\u001b[0m\u001b[0m\n\u001b[0;32m---> 12\u001b[0;31m     shares=[yf.Ticker(ticker[0]).info['sharesOutstanding'],\n\u001b[0m\u001b[1;32m     13\u001b[0m             \u001b[0myf\u001b[0m\u001b[0;34m.\u001b[0m\u001b[0mTicker\u001b[0m\u001b[0;34m(\u001b[0m\u001b[0mticker\u001b[0m\u001b[0;34m[\u001b[0m\u001b[0;36m1\u001b[0m\u001b[0;34m]\u001b[0m\u001b[0;34m)\u001b[0m\u001b[0;34m.\u001b[0m\u001b[0minfo\u001b[0m\u001b[0;34m[\u001b[0m\u001b[0;34m'sharesOutstanding'\u001b[0m\u001b[0;34m]\u001b[0m\u001b[0;34m,\u001b[0m\u001b[0;34m\u001b[0m\u001b[0;34m\u001b[0m\u001b[0m\n\u001b[1;32m     14\u001b[0m             \u001b[0myf\u001b[0m\u001b[0;34m.\u001b[0m\u001b[0mTicker\u001b[0m\u001b[0;34m(\u001b[0m\u001b[0mticker\u001b[0m\u001b[0;34m[\u001b[0m\u001b[0;36m2\u001b[0m\u001b[0;34m]\u001b[0m\u001b[0;34m)\u001b[0m\u001b[0;34m.\u001b[0m\u001b[0minfo\u001b[0m\u001b[0;34m[\u001b[0m\u001b[0;34m'sharesOutstanding'\u001b[0m\u001b[0;34m]\u001b[0m\u001b[0;34m,\u001b[0m\u001b[0;34m\u001b[0m\u001b[0;34m\u001b[0m\u001b[0m\n",
      "\u001b[0;31mKeyError\u001b[0m: 'sharesOutstanding'"
     ]
    }
   ],
   "source": [
    "for i in range(100,2200,100): \n",
    "    data_t = create_data(['Rivian','Lucid','VolksWagen','General Motors','Tesla'],i,i+100)\n",
    "    frame = [ data_Tesla, data_t]\n",
    "    data_Tesla = pd.concat(frame)\n",
    "    "
   ]
  },
  {
   "cell_type": "code",
   "execution_count": 33,
   "id": "a28e906f",
   "metadata": {},
   "outputs": [
    {
     "name": "stderr",
     "output_type": "stream",
     "text": [
      "<ipython-input-18-fb78ad33690e>:27: SettingWithCopyWarning: \n",
      "A value is trying to be set on a copy of a slice from a DataFrame\n",
      "\n",
      "See the caveats in the documentation: https://pandas.pydata.org/pandas-docs/stable/user_guide/indexing.html#returning-a-view-versus-a-copy\n",
      "/Users/selimajaoua/opt/anaconda3/lib/python3.8/site-packages/pandas/core/indexing.py:692: SettingWithCopyWarning: \n",
      "A value is trying to be set on a copy of a slice from a DataFrame\n",
      "\n",
      "See the caveats in the documentation: https://pandas.pydata.org/pandas-docs/stable/user_guide/indexing.html#returning-a-view-versus-a-copy\n"
     ]
    }
   ],
   "source": [
    "#Ford : \n",
    "data_Ford = create_data(['Toyota','BMW','General Motors','Stellantis','Ford'])"
   ]
  },
  {
   "cell_type": "code",
   "execution_count": null,
   "id": "9b80d2d3",
   "metadata": {},
   "outputs": [],
   "source": [
    "data_Tesla"
   ]
  },
  {
   "cell_type": "code",
   "execution_count": 7,
   "id": "26a90ae5",
   "metadata": {},
   "outputs": [],
   "source": [
    "frame = [data_Apple, data_Tesla,data_Twitter, data_Ford, data_PayPal]\n",
    "data = pd.concat(frame)\n",
    "data.to_csv('Data/FinalFeatures.csv.bz2' , index=False)"
   ]
  },
  {
   "cell_type": "code",
   "execution_count": null,
   "id": "35d00890",
   "metadata": {},
   "outputs": [],
   "source": [
    "#Propensity score : \n",
    "def add_propensityscore (companies, date):#so that if we want to change only the first line don't have to do it\n",
    "    #With a column of one and zero if elon musk talked about you \n",
    "    #company = company_quote.extend(controled)\n",
    "    data = compareCompanies(company,date)\n",
    "    #Normalise the features \n",
    "    data['Close'] = (data['Close'] - data['Close'].mean())/lalonde_data['Close'].std()\n",
    "    data['Volume']= (data['Volume']-data['Volume'].mean())/data['Volume'].std()\n",
    "    data['MarketCap']= (data['MarketCap']-data['MarketCap'].mean())/data['MarketCap'].std()\n",
    "    data['Popularity']= (data['Popularity']-data['Popularity'].mean())/data['Popularity'].std()\n",
    "    #Create the model\n",
    "    mod = smf.logit(formula='elon ~ Close+ Volume + MarketCap + Popularity', data=data)\n",
    "    res = mod.fit()\n",
    "    data['Propensity_score'] = res.predict()"
   ]
  },
  {
   "cell_type": "code",
   "execution_count": null,
   "id": "befe1042",
   "metadata": {},
   "outputs": [],
   "source": []
  },
  {
   "cell_type": "code",
   "execution_count": null,
   "id": "db03e8fa",
   "metadata": {},
   "outputs": [],
   "source": [
    "def get_similarity(propensity_score1, propensity_score2):\n",
    "    '''Calculate similarity for instances with given propensity scores'''\n",
    "    return 1-np.abs(propensity_score1-propensity_score2)"
   ]
  },
  {
   "cell_type": "code",
   "execution_count": null,
   "id": "5e94db15",
   "metadata": {},
   "outputs": [],
   "source": [
    "def matching(companies):\n",
    "    treatment_df = data[data['elon'] == 1]\n",
    "    control_df   = data[data['elon'] == 0]\n",
    "    # Create an empty undirected graph\n",
    "    G = nx.Graph()\n",
    "    # Loop through all the pairs of instances\n",
    "    for control_id, control_row in control_df.iterrows():\n",
    "        for treatment_id, treatment_row in treatment_df.iterrows():\n",
    "            if (controle_row['compare']== treatment_id) and (controle_row['date']== treatment_row['date']) : \n",
    "                # Calculate the similarity \n",
    "                similarity = get_similarity(control_row['Propensity_score'],\n",
    "                                    treatment_row['Propensity_score'])\n",
    "                # Add an edge between the two instances weighted by the similarity between them\n",
    "                G.add_weighted_edges_from([(control_id, treatment_id, similarity)])\n",
    "    # Generate and return the maximum weight matching on the generated graph\n",
    "    matching = nx.max_weight_matching(G)\n",
    "    return matching"
   ]
  },
  {
   "cell_type": "code",
   "execution_count": null,
   "id": "a6bd8b37",
   "metadata": {},
   "outputs": [],
   "source": [
    "matching = matching(data)\n",
    "matched = [i[0] for i in list(matching)]+ [i[1]for in list(matching)]\n",
    "balanced = data.iloc[matched]\n"
   ]
  },
  {
   "cell_type": "markdown",
   "id": "19526092",
   "metadata": {},
   "source": [
    "## After matching : \n"
   ]
  },
  {
   "cell_type": "code",
   "execution_count": null,
   "id": "4d009de1",
   "metadata": {},
   "outputs": [],
   "source": []
  },
  {
   "cell_type": "code",
   "execution_count": null,
   "id": "4436dd47",
   "metadata": {},
   "outputs": [],
   "source": []
  },
  {
   "cell_type": "code",
   "execution_count": null,
   "id": "aabe5098",
   "metadata": {},
   "outputs": [],
   "source": []
  },
  {
   "cell_type": "code",
   "execution_count": null,
   "id": "7b4350bf",
   "metadata": {},
   "outputs": [],
   "source": []
  },
  {
   "cell_type": "code",
   "execution_count": null,
   "id": "ae926eea",
   "metadata": {},
   "outputs": [],
   "source": []
  },
  {
   "cell_type": "code",
   "execution_count": null,
   "id": "b789bb00",
   "metadata": {},
   "outputs": [],
   "source": []
  },
  {
   "cell_type": "code",
   "execution_count": null,
   "id": "06d6706f",
   "metadata": {},
   "outputs": [],
   "source": []
  },
  {
   "cell_type": "code",
   "execution_count": null,
   "id": "dd4b60e4",
   "metadata": {},
   "outputs": [],
   "source": []
  },
  {
   "cell_type": "code",
   "execution_count": null,
   "id": "43ac0f6a",
   "metadata": {},
   "outputs": [],
   "source": []
  },
  {
   "cell_type": "code",
   "execution_count": null,
   "id": "1cb88a9e",
   "metadata": {},
   "outputs": [],
   "source": []
  },
  {
   "cell_type": "code",
   "execution_count": null,
   "id": "a90a64e4",
   "metadata": {},
   "outputs": [],
   "source": []
  },
  {
   "cell_type": "code",
   "execution_count": null,
   "id": "a720c5ab",
   "metadata": {},
   "outputs": [],
   "source": []
  },
  {
   "cell_type": "code",
   "execution_count": null,
   "id": "a88ee5d4",
   "metadata": {},
   "outputs": [],
   "source": []
  },
  {
   "cell_type": "code",
   "execution_count": null,
   "id": "38a4c06a",
   "metadata": {},
   "outputs": [],
   "source": []
  },
  {
   "cell_type": "code",
   "execution_count": null,
   "id": "bc30f2f3",
   "metadata": {},
   "outputs": [],
   "source": []
  },
  {
   "cell_type": "code",
   "execution_count": null,
   "id": "22d0ec3b",
   "metadata": {},
   "outputs": [],
   "source": [
    "before =time.time()\n",
    "quotes_Apple = elon_org_df[elon_org_df['ORG'] == 'Apple']\n",
    "first_date = quotes_Apple.iloc[0]['date'][0:10]\n",
    "Company_Apple =['Microsoft','IBM','Samsung','Dell','Apple'] \n",
    "ticker_Apple =[ticker_of_company('Microsoft'),\n",
    "               ticker_of_company('IBM'),\n",
    "               ticker_of_company('Samsung'),\n",
    "               ticker_of_company('Dell'),\n",
    "              ticker_of_company('Apple')] \n",
    "shares_Apple =[yf.Ticker(ticker_Apple[0]).info['sharesOutstanding'],\n",
    "              yf.Ticker(ticker_Apple[1]).info['sharesOutstanding'],\n",
    "              yf.Ticker(ticker_Apple[2]).info['sharesOutstanding'],\n",
    "              yf.Ticker(ticker_Apple[3]).info['sharesOutstanding'],\n",
    "               yf.Ticker(ticker_Apple[4]).info['sharesOutstanding']]\n",
    "hist_Apple =[yf.Ticker(ticker_Apple[0]).history(start=first_date)[['Close', 'Volume']],\n",
    "              yf.Ticker(ticker_Apple[1]).history(start=first_date)[['Close', 'Volume']],\n",
    "              yf.Ticker(ticker_Apple[2]).history(start=first_date)[['Close', 'Volume']],\n",
    "              yf.Ticker(ticker_Apple[3]).history(start=first_date)[['Close', 'Volume']],\n",
    "               yf.Ticker(ticker_Apple[4]).history(start=first_date)[['Close', 'Volume']]]\n",
    "after =time.time()\n",
    "print('fetch time:',str(after-before))"
   ]
  },
  {
   "cell_type": "code",
   "execution_count": null,
   "id": "ba192ee5",
   "metadata": {},
   "outputs": [],
   "source": [
    "hist_Apple[0].iloc[0]"
   ]
  },
  {
   "cell_type": "code",
   "execution_count": null,
   "id": "75a6b764",
   "metadata": {},
   "outputs": [],
   "source": [
    "hist_Apple[0].iloc[0].name"
   ]
  },
  {
   "cell_type": "code",
   "execution_count": null,
   "id": "de93dc57",
   "metadata": {},
   "outputs": [],
   "source": [
    "hist_Apple[0].iloc[0].name.date() > datetime.date.fromisoformat('2015-12-04')"
   ]
  },
  {
   "cell_type": "code",
   "execution_count": null,
   "id": "b64c0ae1",
   "metadata": {},
   "outputs": [],
   "source": [
    "for i in range(len(hist_Apple[0])):\n",
    "    if hist_Apple[0].iloc[i].name.date() > datetime.date.fromisoformat('2015-12-12'):\n",
    "        print(hist_Apple[0].iloc[i])\n",
    "        break"
   ]
  }
 ],
 "metadata": {
  "kernelspec": {
   "display_name": "Python 3",
   "language": "python",
   "name": "python3"
  },
  "language_info": {
   "codemirror_mode": {
    "name": "ipython",
    "version": 3
   },
   "file_extension": ".py",
   "mimetype": "text/x-python",
   "name": "python",
   "nbconvert_exporter": "python",
   "pygments_lexer": "ipython3",
   "version": "3.8.8"
  }
 },
 "nbformat": 4,
 "nbformat_minor": 5
}
