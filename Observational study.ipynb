{
 "cells": [
  {
   "cell_type": "markdown",
   "id": "98833cf3",
   "metadata": {},
   "source": [
    "# Observational study "
   ]
  },
  {
   "cell_type": "code",
   "execution_count": 1,
   "id": "61358806",
   "metadata": {},
   "outputs": [],
   "source": [
    "import pandas as pd \n",
    "import numpy as np \n",
    "import matplotlib.pyplot as plt\n",
    "import plotnine\n",
    "from networkx import nx\n",
    "from plotnine import ggplot, aes, geom_bar\n",
    "from functions import *\n",
    "import spacy"
   ]
  },
  {
   "cell_type": "code",
   "execution_count": 4,
   "id": "14454f15",
   "metadata": {},
   "outputs": [],
   "source": [
    "from compare import *"
   ]
  },
  {
   "cell_type": "code",
   "execution_count": 9,
   "id": "01ded59b",
   "metadata": {},
   "outputs": [],
   "source": [
    "elon_org_df = pd.read_csv('Data/org-lg-Elon Musk.csv.bz2')"
   ]
  },
  {
   "cell_type": "markdown",
   "id": "b6b19fb1",
   "metadata": {},
   "source": [
    "## Matching : "
   ]
  },
  {
   "cell_type": "code",
   "execution_count": 29,
   "id": "b98fe67e",
   "metadata": {},
   "outputs": [
    {
     "ename": "KeyError",
     "evalue": "'Name'",
     "output_type": "error",
     "traceback": [
      "\u001b[0;31m---------------------------------------------------------------------------\u001b[0m",
      "\u001b[0;31mKeyError\u001b[0m                                  Traceback (most recent call last)",
      "\u001b[0;32m~/opt/anaconda3/lib/python3.8/site-packages/pandas/core/indexes/base.py\u001b[0m in \u001b[0;36mget_loc\u001b[0;34m(self, key, method, tolerance)\u001b[0m\n\u001b[1;32m   3079\u001b[0m             \u001b[0;32mtry\u001b[0m\u001b[0;34m:\u001b[0m\u001b[0;34m\u001b[0m\u001b[0;34m\u001b[0m\u001b[0m\n\u001b[0;32m-> 3080\u001b[0;31m                 \u001b[0;32mreturn\u001b[0m \u001b[0mself\u001b[0m\u001b[0;34m.\u001b[0m\u001b[0m_engine\u001b[0m\u001b[0;34m.\u001b[0m\u001b[0mget_loc\u001b[0m\u001b[0;34m(\u001b[0m\u001b[0mcasted_key\u001b[0m\u001b[0;34m)\u001b[0m\u001b[0;34m\u001b[0m\u001b[0;34m\u001b[0m\u001b[0m\n\u001b[0m\u001b[1;32m   3081\u001b[0m             \u001b[0;32mexcept\u001b[0m \u001b[0mKeyError\u001b[0m \u001b[0;32mas\u001b[0m \u001b[0merr\u001b[0m\u001b[0;34m:\u001b[0m\u001b[0;34m\u001b[0m\u001b[0;34m\u001b[0m\u001b[0m\n",
      "\u001b[0;32mpandas/_libs/index.pyx\u001b[0m in \u001b[0;36mpandas._libs.index.IndexEngine.get_loc\u001b[0;34m()\u001b[0m\n",
      "\u001b[0;32mpandas/_libs/index.pyx\u001b[0m in \u001b[0;36mpandas._libs.index.IndexEngine.get_loc\u001b[0;34m()\u001b[0m\n",
      "\u001b[0;32mpandas/_libs/hashtable_class_helper.pxi\u001b[0m in \u001b[0;36mpandas._libs.hashtable.PyObjectHashTable.get_item\u001b[0;34m()\u001b[0m\n",
      "\u001b[0;32mpandas/_libs/hashtable_class_helper.pxi\u001b[0m in \u001b[0;36mpandas._libs.hashtable.PyObjectHashTable.get_item\u001b[0;34m()\u001b[0m\n",
      "\u001b[0;31mKeyError\u001b[0m: 'Name'",
      "\nThe above exception was the direct cause of the following exception:\n",
      "\u001b[0;31mKeyError\u001b[0m                                  Traceback (most recent call last)",
      "\u001b[0;32m<ipython-input-29-b1f8de00d857>\u001b[0m in \u001b[0;36m<module>\u001b[0;34m\u001b[0m\n\u001b[1;32m     21\u001b[0m \u001b[0;32mfor\u001b[0m \u001b[0mi\u001b[0m \u001b[0;32min\u001b[0m \u001b[0mrange\u001b[0m \u001b[0;34m(\u001b[0m\u001b[0mlen\u001b[0m\u001b[0;34m(\u001b[0m\u001b[0mquotes_Apple\u001b[0m\u001b[0;34m)\u001b[0m\u001b[0;34m)\u001b[0m\u001b[0;34m:\u001b[0m\u001b[0;34m\u001b[0m\u001b[0;34m\u001b[0m\u001b[0m\n\u001b[1;32m     22\u001b[0m     \u001b[0mdate\u001b[0m \u001b[0;34m=\u001b[0m \u001b[0mquotes_Apple\u001b[0m\u001b[0;34m.\u001b[0m\u001b[0miloc\u001b[0m\u001b[0;34m[\u001b[0m\u001b[0mi\u001b[0m\u001b[0;34m,\u001b[0m\u001b[0;34m:\u001b[0m\u001b[0;34m]\u001b[0m\u001b[0;34m[\u001b[0m\u001b[0;34m'date'\u001b[0m\u001b[0;34m]\u001b[0m\u001b[0;34m[\u001b[0m\u001b[0;36m0\u001b[0m\u001b[0;34m:\u001b[0m\u001b[0;36m10\u001b[0m\u001b[0;34m]\u001b[0m\u001b[0;34m\u001b[0m\u001b[0;34m\u001b[0m\u001b[0m\n\u001b[0;32m---> 23\u001b[0;31m     \u001b[0mcompare\u001b[0m\u001b[0;34m(\u001b[0m\u001b[0mdata\u001b[0m\u001b[0;34m,\u001b[0m\u001b[0;34m'Apple'\u001b[0m\u001b[0;34m,\u001b[0m\u001b[0mdate\u001b[0m\u001b[0;34m,\u001b[0m\u001b[0mCompany_Apple\u001b[0m\u001b[0;34m)\u001b[0m\u001b[0;34m\u001b[0m\u001b[0;34m\u001b[0m\u001b[0m\n\u001b[0m\u001b[1;32m     24\u001b[0m \u001b[0;31m#Tesla :\u001b[0m\u001b[0;34m\u001b[0m\u001b[0;34m\u001b[0m\u001b[0;34m\u001b[0m\u001b[0m\n\u001b[1;32m     25\u001b[0m \u001b[0mcompay_Tesla\u001b[0m \u001b[0;34m=\u001b[0m \u001b[0;34m[\u001b[0m\u001b[0;34m'Toyota'\u001b[0m\u001b[0;34m,\u001b[0m\u001b[0;34m'BMW'\u001b[0m\u001b[0;34m,\u001b[0m\u001b[0;34m'VolksWagen'\u001b[0m\u001b[0;34m,\u001b[0m\u001b[0;34m'General Motors'\u001b[0m\u001b[0;34m]\u001b[0m\u001b[0;34m\u001b[0m\u001b[0;34m\u001b[0m\u001b[0m\n",
      "\u001b[0;32m<ipython-input-29-b1f8de00d857>\u001b[0m in \u001b[0;36mcompare\u001b[0;34m(data, company_quotes, date, companies)\u001b[0m\n\u001b[1;32m      8\u001b[0m     \u001b[0mcompany\u001b[0m \u001b[0;34m[\u001b[0m\u001b[0;34m'Elon'\u001b[0m\u001b[0;34m]\u001b[0m\u001b[0;34m=\u001b[0m \u001b[0;36m0\u001b[0m\u001b[0;34m\u001b[0m\u001b[0;34m\u001b[0m\u001b[0m\n\u001b[1;32m      9\u001b[0m     \u001b[0mcompany\u001b[0m \u001b[0;34m[\u001b[0m\u001b[0;34m'compare'\u001b[0m\u001b[0;34m]\u001b[0m \u001b[0;34m=\u001b[0m \u001b[0mcompany_quotes\u001b[0m\u001b[0;34m\u001b[0m\u001b[0;34m\u001b[0m\u001b[0m\n\u001b[0;32m---> 10\u001b[0;31m     \u001b[0;34m(\u001b[0m\u001b[0mcompany\u001b[0m\u001b[0;34m[\u001b[0m\u001b[0mcompany\u001b[0m\u001b[0;34m[\u001b[0m\u001b[0;34m'Name'\u001b[0m\u001b[0;34m]\u001b[0m\u001b[0;34m==\u001b[0m\u001b[0mcompany_quote\u001b[0m\u001b[0;34m]\u001b[0m\u001b[0;34m)\u001b[0m\u001b[0;34m[\u001b[0m\u001b[0;34m'Elon'\u001b[0m\u001b[0;34m]\u001b[0m\u001b[0;34m=\u001b[0m\u001b[0;36m1\u001b[0m\u001b[0;34m\u001b[0m\u001b[0;34m\u001b[0m\u001b[0m\n\u001b[0m\u001b[1;32m     11\u001b[0m     \u001b[0;34m(\u001b[0m\u001b[0mcompany\u001b[0m\u001b[0;34m[\u001b[0m\u001b[0mcompany\u001b[0m\u001b[0;34m[\u001b[0m\u001b[0;34m'Name'\u001b[0m\u001b[0;34m]\u001b[0m\u001b[0;34m==\u001b[0m\u001b[0mcompany_quote\u001b[0m\u001b[0;34m]\u001b[0m\u001b[0;34m)\u001b[0m\u001b[0;34m[\u001b[0m\u001b[0;34m'compare'\u001b[0m\u001b[0;34m]\u001b[0m\u001b[0;34m=\u001b[0m \u001b[0;34m'None'\u001b[0m\u001b[0;34m\u001b[0m\u001b[0;34m\u001b[0m\u001b[0m\n\u001b[1;32m     12\u001b[0m     \u001b[0mcontroled\u001b[0m \u001b[0;34m=\u001b[0m \u001b[0mcontroled\u001b[0m\u001b[0;34m[\u001b[0m\u001b[0;34m[\u001b[0m\u001b[0;34m'Elon'\u001b[0m\u001b[0;34m,\u001b[0m \u001b[0;34m'Name'\u001b[0m\u001b[0;34m,\u001b[0m \u001b[0;34m'date'\u001b[0m\u001b[0;34m,\u001b[0m \u001b[0;34m'Close'\u001b[0m\u001b[0;34m,\u001b[0m\u001b[0;34m'Volume'\u001b[0m\u001b[0;34m,\u001b[0m\u001b[0;34m'MarketCap'\u001b[0m\u001b[0;34m,\u001b[0m\u001b[0;34m'Popularity'\u001b[0m\u001b[0;34m]\u001b[0m\u001b[0;34m]\u001b[0m\u001b[0;34m\u001b[0m\u001b[0;34m\u001b[0m\u001b[0m\n",
      "\u001b[0;32m~/opt/anaconda3/lib/python3.8/site-packages/pandas/core/frame.py\u001b[0m in \u001b[0;36m__getitem__\u001b[0;34m(self, key)\u001b[0m\n\u001b[1;32m   3022\u001b[0m             \u001b[0;32mif\u001b[0m \u001b[0mself\u001b[0m\u001b[0;34m.\u001b[0m\u001b[0mcolumns\u001b[0m\u001b[0;34m.\u001b[0m\u001b[0mnlevels\u001b[0m \u001b[0;34m>\u001b[0m \u001b[0;36m1\u001b[0m\u001b[0;34m:\u001b[0m\u001b[0;34m\u001b[0m\u001b[0;34m\u001b[0m\u001b[0m\n\u001b[1;32m   3023\u001b[0m                 \u001b[0;32mreturn\u001b[0m \u001b[0mself\u001b[0m\u001b[0;34m.\u001b[0m\u001b[0m_getitem_multilevel\u001b[0m\u001b[0;34m(\u001b[0m\u001b[0mkey\u001b[0m\u001b[0;34m)\u001b[0m\u001b[0;34m\u001b[0m\u001b[0;34m\u001b[0m\u001b[0m\n\u001b[0;32m-> 3024\u001b[0;31m             \u001b[0mindexer\u001b[0m \u001b[0;34m=\u001b[0m \u001b[0mself\u001b[0m\u001b[0;34m.\u001b[0m\u001b[0mcolumns\u001b[0m\u001b[0;34m.\u001b[0m\u001b[0mget_loc\u001b[0m\u001b[0;34m(\u001b[0m\u001b[0mkey\u001b[0m\u001b[0;34m)\u001b[0m\u001b[0;34m\u001b[0m\u001b[0;34m\u001b[0m\u001b[0m\n\u001b[0m\u001b[1;32m   3025\u001b[0m             \u001b[0;32mif\u001b[0m \u001b[0mis_integer\u001b[0m\u001b[0;34m(\u001b[0m\u001b[0mindexer\u001b[0m\u001b[0;34m)\u001b[0m\u001b[0;34m:\u001b[0m\u001b[0;34m\u001b[0m\u001b[0;34m\u001b[0m\u001b[0m\n\u001b[1;32m   3026\u001b[0m                 \u001b[0mindexer\u001b[0m \u001b[0;34m=\u001b[0m \u001b[0;34m[\u001b[0m\u001b[0mindexer\u001b[0m\u001b[0;34m]\u001b[0m\u001b[0;34m\u001b[0m\u001b[0;34m\u001b[0m\u001b[0m\n",
      "\u001b[0;32m~/opt/anaconda3/lib/python3.8/site-packages/pandas/core/indexes/base.py\u001b[0m in \u001b[0;36mget_loc\u001b[0;34m(self, key, method, tolerance)\u001b[0m\n\u001b[1;32m   3080\u001b[0m                 \u001b[0;32mreturn\u001b[0m \u001b[0mself\u001b[0m\u001b[0;34m.\u001b[0m\u001b[0m_engine\u001b[0m\u001b[0;34m.\u001b[0m\u001b[0mget_loc\u001b[0m\u001b[0;34m(\u001b[0m\u001b[0mcasted_key\u001b[0m\u001b[0;34m)\u001b[0m\u001b[0;34m\u001b[0m\u001b[0;34m\u001b[0m\u001b[0m\n\u001b[1;32m   3081\u001b[0m             \u001b[0;32mexcept\u001b[0m \u001b[0mKeyError\u001b[0m \u001b[0;32mas\u001b[0m \u001b[0merr\u001b[0m\u001b[0;34m:\u001b[0m\u001b[0;34m\u001b[0m\u001b[0;34m\u001b[0m\u001b[0m\n\u001b[0;32m-> 3082\u001b[0;31m                 \u001b[0;32mraise\u001b[0m \u001b[0mKeyError\u001b[0m\u001b[0;34m(\u001b[0m\u001b[0mkey\u001b[0m\u001b[0;34m)\u001b[0m \u001b[0;32mfrom\u001b[0m \u001b[0merr\u001b[0m\u001b[0;34m\u001b[0m\u001b[0;34m\u001b[0m\u001b[0m\n\u001b[0m\u001b[1;32m   3083\u001b[0m \u001b[0;34m\u001b[0m\u001b[0m\n\u001b[1;32m   3084\u001b[0m         \u001b[0;32mif\u001b[0m \u001b[0mtolerance\u001b[0m \u001b[0;32mis\u001b[0m \u001b[0;32mnot\u001b[0m \u001b[0;32mNone\u001b[0m\u001b[0;34m:\u001b[0m\u001b[0;34m\u001b[0m\u001b[0;34m\u001b[0m\u001b[0m\n",
      "\u001b[0;31mKeyError\u001b[0m: 'Name'"
     ]
    }
   ],
   "source": [
    "data = pd.DataFrame(columns = ['Elon','Name','date','Close','Volume','MarketCap','Popularity'])\n",
    "\n",
    "#Data is our data frame with all the companies with first column 1 or 0 if Elon Musk talks about it.\n",
    "# after,Name of the company and the other four covariates \n",
    "def compare(data,company_quotes, date, companies): \n",
    "    companies.append(company_quotes)\n",
    "    company = compareCompanies(companies,date)\n",
    "    company ['Elon']= 0\n",
    "    company ['compare'] = company_quotes\n",
    "    (company[company['Name']==company_quote])['Elon']=1\n",
    "    (company[company['Name']==company_quote])['compare']= 'None'\n",
    "    controled = controled[['Elon', 'Name', 'date', 'Close','Volume','MarketCap','Popularity']]\n",
    "    data.concate(controled)\n",
    "     \n",
    "    \n",
    "#Call this function for all our functions and a set of company that will represent the controled one.\n",
    "\n",
    "#Apple : \n",
    "Company_Apple =['Miscrosoft','IBM','Samsung','Dell'] \n",
    "quotes_Apple  = elon_org_df[elon_org_df['ORG'] == 'Apple']\n",
    "for i in range (len(quotes_Apple)):\n",
    "    date = quotes_Apple.iloc[i,:]['date'][0:10]\n",
    "    compare(data,'Apple',date,Company_Apple)\n",
    "#Tesla : \n",
    "compay_Tesla = ['Toyota','BMW','VolksWagen','General Motors']\n",
    "\n",
    "#Twitter : \n",
    "company_Twitter = ['Google','Facebook','Snapchat','Pinterest']\n",
    "#Ford : \n",
    "company_Ford = ['Toyota','Fiat','General Motors','Stellantis']\n",
    "#Paypal :\n",
    "conmpany_PayPal = ['Western Union','EuroNet','MoneyGram','Payoneer']\n"
   ]
  },
  {
   "cell_type": "code",
   "execution_count": 26,
   "id": "2a8a1946",
   "metadata": {},
   "outputs": [
    {
     "data": {
      "text/plain": [
       "'2015-10-09'"
      ]
     },
     "execution_count": 26,
     "metadata": {},
     "output_type": "execute_result"
    }
   ],
   "source": [
    "quotes_Apple = elon_org_df[elon_org_df['ORG']== 'Apple']\n",
    "quotes_Apple.iloc[1,:]['date'][0:10]"
   ]
  },
  {
   "cell_type": "code",
   "execution_count": 6,
   "id": "35d00890",
   "metadata": {},
   "outputs": [],
   "source": [
    "#Propensity score : \n",
    "def add_propensityscore (companies, date):#so that if we want to change only the first line don't have to do it\n",
    "    #With a column of one and zero if elon musk talked about you \n",
    "    #company = company_quote.extend(controled)\n",
    "    data = compareCompanies(company,date)\n",
    "    #Normalise the features \n",
    "    data['Close'] = (data['Close'] - data['Close'].mean())/lalonde_data['Close'].std()\n",
    "    data['Volume']= (data['Volume']-data['Volume'].mean())/data['Volume'].std()\n",
    "    data['MarketCap']= (data['MarketCap']-data['MarketCap'].mean())/data['MarketCap'].std()\n",
    "    data['Popularity']= (data['Popularity']-data['Popularity'].mean())/data['Popularity'].std()\n",
    "    #Create the model\n",
    "    mod = smf.logit(formula='elon ~ Close+ Volume + MarketCap + Popularity', data=data)\n",
    "    res = mod.fit()\n",
    "    data['Propensity_score'] = res.predict()"
   ]
  },
  {
   "cell_type": "code",
   "execution_count": 7,
   "id": "db03e8fa",
   "metadata": {},
   "outputs": [],
   "source": [
    "def get_similarity(propensity_score1, propensity_score2):\n",
    "    '''Calculate similarity for instances with given propensity scores'''\n",
    "    return 1-np.abs(propensity_score1-propensity_score2)"
   ]
  },
  {
   "cell_type": "code",
   "execution_count": 8,
   "id": "5e94db15",
   "metadata": {},
   "outputs": [],
   "source": [
    "def matching(companies):\n",
    "    treatment_df = data[data['elon'] == 1]\n",
    "    control_df   = data[data['elon'] == 0]\n",
    "    # Create an empty undirected graph\n",
    "    G = nx.Graph()\n",
    "    # Loop through all the pairs of instances\n",
    "    for control_id, control_row in control_df.iterrows():\n",
    "        for treatment_id, treatment_row in treatment_df.iterrows():\n",
    "            if (controle_row['compare']== treatment_id) and (controle_row['date']== treatment_row['date']) : \n",
    "                # Calculate the similarity \n",
    "                similarity = get_similarity(control_row['Propensity_score'],\n",
    "                                    treatment_row['Propensity_score'])\n",
    "                # Add an edge between the two instances weighted by the similarity between them\n",
    "                G.add_weighted_edges_from([(control_id, treatment_id, similarity)])\n",
    "    # Generate and return the maximum weight matching on the generated graph\n",
    "    matching = nx.max_weight_matching(G)\n",
    "    return matching"
   ]
  },
  {
   "cell_type": "code",
   "execution_count": null,
   "id": "a6bd8b37",
   "metadata": {},
   "outputs": [],
   "source": [
    "matching = matching(data)\n",
    "matched = [i[0] for i in list(matching)]+ [i[1]for in list(matching)]\n",
    "balanced = data.iloc[matched]\n"
   ]
  },
  {
   "cell_type": "markdown",
   "id": "19526092",
   "metadata": {},
   "source": [
    "## After matching : \n"
   ]
  },
  {
   "cell_type": "code",
   "execution_count": null,
   "id": "4d009de1",
   "metadata": {},
   "outputs": [],
   "source": []
  }
 ],
 "metadata": {
  "kernelspec": {
   "display_name": "Python 3",
   "language": "python",
   "name": "python3"
  },
  "language_info": {
   "codemirror_mode": {
    "name": "ipython",
    "version": 3
   },
   "file_extension": ".py",
   "mimetype": "text/x-python",
   "name": "python",
   "nbconvert_exporter": "python",
   "pygments_lexer": "ipython3",
   "version": "3.8.8"
  }
 },
 "nbformat": 4,
 "nbformat_minor": 5
}
